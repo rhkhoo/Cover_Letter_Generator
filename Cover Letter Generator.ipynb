{
 "cells": [
  {
   "cell_type": "markdown",
   "metadata": {},
   "source": [
    "# Cover Letter Generator\n",
    "\n",
    "In today's competitive job market, submitting your resume often just isn't enough to make you stand out. Many companies now require a cover letter, but when you are applying to several jobs at once, writing an individual cover letter for each position can be time consuming. This project will solve this problem by creating a cover letter generator. \n",
    "\n",
    "The original goal was to use user information about the job listing and their experience extracted from a resume to create a unique cover letter for each job. Due to lack of training data, this generator can only generate generic cover letters with tokens that the user can fill in themselves.\n",
    "\n",
    "Further work on this project is needed to accomplish the original goal, specifically more training data (sample cover letters) are needed. Despite not accomplishing the original goal, this model could still be useful by giving the user a starting point when writing cover letters if more training data was obtained."
   ]
  },
  {
   "cell_type": "code",
   "execution_count": 1,
   "metadata": {},
   "outputs": [],
   "source": [
    "#!pip install tensorflow\n",
    "#!pip install transformers"
   ]
  },
  {
   "cell_type": "code",
   "execution_count": 2,
   "metadata": {
    "scrolled": true
   },
   "outputs": [],
   "source": [
    "import numpy as np\n",
    "import pandas as pd\n",
    "import tensorflow as tf\n",
    "from nltk.corpus.reader.plaintext import PlaintextCorpusReader\n",
    "from nltk import word_tokenize\n",
    "\n",
    "from transformers import BertTokenizer, TFBertModel, BertConfig\n",
    "\n",
    "from tensorflow.keras.models import Sequential\n",
    "from tensorflow.keras.layers import Dense, LSTM, Dropout\n",
    "from keras.callbacks import ModelCheckpoint\n",
    "from keras.utils import np_utils\n",
    "\n",
    "import matplotlib.pyplot as plt"
   ]
  },
  {
   "cell_type": "markdown",
   "metadata": {},
   "source": [
    "First I will define a function to checkout some of the corpus statistics."
   ]
  },
  {
   "cell_type": "code",
   "execution_count": 3,
   "metadata": {},
   "outputs": [],
   "source": [
    "def corpus_stats(corpus):\n",
    "  print('Corpus Stats:')\n",
    "  print('Number of Documents: ' + str(len(corpus.fileids())))\n",
    "  print('Number of Paragraphs ' + str(len(corpus.paras())))\n",
    "  print('Number of sentences: ' + str(len(corpus.sents())))\n",
    "  print('Number of words: ' + str(len(corpus.words())))\n",
    "  print(\"Vocabulary: \" + str(len(set(w.lower() for w in corpus.words()))))\n",
    "  print(\"Avg chars per word: \" + str(round(len(corpus.raw())/len(corpus.words()),1)))\n",
    "  print(\"Avg words per sentence: \" + str(round(len(corpus.words())/len(corpus.sents()),1)))"
   ]
  },
  {
   "cell_type": "markdown",
   "metadata": {},
   "source": [
    "Load the sample cover letter .txt files via NLTK's PlaintextCorpusReader."
   ]
  },
  {
   "cell_type": "code",
   "execution_count": 4,
   "metadata": {},
   "outputs": [],
   "source": [
    "path = './cover_letter_samples'\n",
    "doc_pattern = r'.*\\.txt'\n",
    "corpus = PlaintextCorpusReader(path, doc_pattern)"
   ]
  },
  {
   "cell_type": "code",
   "execution_count": 5,
   "metadata": {},
   "outputs": [
    {
     "name": "stdout",
     "output_type": "stream",
     "text": [
      "Corpus Stats:\n",
      "Number of Documents: 51\n",
      "Number of Paragraphs 246\n",
      "Number of sentences: 625\n",
      "Number of words: 14942\n",
      "Vocabulary: 2564\n",
      "Avg chars per word: 5.6\n",
      "Avg words per sentence: 23.9\n"
     ]
    }
   ],
   "source": [
    "corpus_stats(corpus)"
   ]
  },
  {
   "cell_type": "code",
   "execution_count": 6,
   "metadata": {},
   "outputs": [],
   "source": [
    "docs = [corpus.raw(fileid) for fileid in corpus.fileids()]"
   ]
  },
  {
   "cell_type": "markdown",
   "metadata": {},
   "source": [
    "Remove unwanted characters"
   ]
  },
  {
   "cell_type": "code",
   "execution_count": 7,
   "metadata": {},
   "outputs": [],
   "source": [
    "docs = [doc.replace('\\n', '') for doc in docs]\n",
    "docs = [doc.replace('\\r', '') for doc in docs]\n",
    "docs = [doc.replace(')', '') for doc in docs]\n",
    "docs = [doc.replace('(', '') for doc in docs]\n",
    "docs = [doc.replace(',', '') for doc in docs]\n",
    "docs = [doc.replace('.', '') for doc in docs]"
   ]
  },
  {
   "cell_type": "code",
   "execution_count": 8,
   "metadata": {},
   "outputs": [],
   "source": [
    "docs = [doc.lower() for doc in docs]"
   ]
  },
  {
   "cell_type": "markdown",
   "metadata": {},
   "source": [
    "Create a list of individual words for each document"
   ]
  },
  {
   "cell_type": "code",
   "execution_count": 9,
   "metadata": {},
   "outputs": [],
   "source": [
    "tokenized = [word_tokenize(doc) for doc in docs]\n",
    "\n",
    "lens = [len(token) for token in tokenized]"
   ]
  },
  {
   "cell_type": "markdown",
   "metadata": {},
   "source": [
    "Make a single list of all documents"
   ]
  },
  {
   "cell_type": "code",
   "execution_count": 10,
   "metadata": {},
   "outputs": [],
   "source": [
    "tokens_list = []\n",
    "for token in tokenized:\n",
    "    tokens_list.extend(token)"
   ]
  },
  {
   "cell_type": "markdown",
   "metadata": {},
   "source": [
    "# Encoding"
   ]
  },
  {
   "cell_type": "markdown",
   "metadata": {},
   "source": [
    "Now we will encode the text to numeric vectors using BERT encoder because it is pre-trained and can understand the meaning of words."
   ]
  },
  {
   "cell_type": "code",
   "execution_count": 11,
   "metadata": {
    "scrolled": true
   },
   "outputs": [],
   "source": [
    "tz = BertTokenizer.from_pretrained(\"bert-base-cased\")"
   ]
  },
  {
   "cell_type": "code",
   "execution_count": 12,
   "metadata": {},
   "outputs": [],
   "source": [
    "encoded = tz.encode_plus(\n",
    "    text=tokens_list,  # the text to be encoded\n",
    "    add_special_tokens=True,  # Add [CLS] and [SEP]\n",
    "    max_length = len(tokens_list),  # maximum length of a document\n",
    "    truncation = True,\n",
    "    padding = 'max_length',  # Add [PAD]s\n",
    "    return_attention_mask = True,  # Generate the attention mask\n",
    "    return_tensors = 'tf',  # ask the function to return TensorFlow tensors\n",
    ")\n",
    "input_ids = encoded['input_ids']\n",
    "attn_mask = encoded['attention_mask']"
   ]
  },
  {
   "cell_type": "markdown",
   "metadata": {},
   "source": [
    "The BERT encoder outputs a list of lists, so I will consolidate them into a single list"
   ]
  },
  {
   "cell_type": "code",
   "execution_count": 13,
   "metadata": {},
   "outputs": [],
   "source": [
    "input_ids_list = []\n",
    "for input_id in input_ids:\n",
    "    input_ids_list.extend(input_id)"
   ]
  },
  {
   "cell_type": "markdown",
   "metadata": {},
   "source": [
    "The BERT encoder also outputs tensors, I need to convert them to numpy arrays."
   ]
  },
  {
   "cell_type": "code",
   "execution_count": 14,
   "metadata": {},
   "outputs": [],
   "source": [
    "input_ids_int = []\n",
    "\n",
    "for tensor in input_ids_list:\n",
    "    input_ids_int.append(tensor.numpy())"
   ]
  },
  {
   "cell_type": "markdown",
   "metadata": {},
   "source": [
    "Now that the words are numeric vectors, I will need to be able to decode the model's output. I will also need to be able to encode a test sample."
   ]
  },
  {
   "cell_type": "code",
   "execution_count": 15,
   "metadata": {},
   "outputs": [],
   "source": [
    "id_to_word = {input_ids_int[i]: tokens_list[i] for i in range(len(input_ids_int))}\n",
    "word_to_id = {tokens_list[i]: input_ids_int[i] for i in range(len(tokens_list))}"
   ]
  },
  {
   "cell_type": "markdown",
   "metadata": {},
   "source": [
    "We are modeling sequence-to-sequence, I will create sequences and the word that immediately follows that sequence to use as \"labels.\""
   ]
  },
  {
   "cell_type": "code",
   "execution_count": 16,
   "metadata": {},
   "outputs": [],
   "source": [
    "seq_len = 5"
   ]
  },
  {
   "cell_type": "code",
   "execution_count": 17,
   "metadata": {},
   "outputs": [],
   "source": [
    "X = []\n",
    "y = []\n",
    "for i in range(0, len(input_ids_list) - seq_len, 3):\n",
    "    in_seq = input_ids_list[i:i+seq_len]\n",
    "    out_seq = input_ids_list[i + seq_len]\n",
    "    X.append(in_seq)\n",
    "    y.append(out_seq)"
   ]
  },
  {
   "cell_type": "markdown",
   "metadata": {},
   "source": [
    "Reshape the input to (*time steps*, *batch size*, *something else*) "
   ]
  },
  {
   "cell_type": "code",
   "execution_count": 18,
   "metadata": {},
   "outputs": [],
   "source": [
    "X_array = np.reshape(X, (len(X), seq_len, 1))"
   ]
  },
  {
   "cell_type": "markdown",
   "metadata": {},
   "source": [
    "One-hot encode the labels"
   ]
  },
  {
   "cell_type": "code",
   "execution_count": 19,
   "metadata": {
    "scrolled": true
   },
   "outputs": [],
   "source": [
    "y_array = np_utils.to_categorical(y).T"
   ]
  },
  {
   "cell_type": "code",
   "execution_count": 20,
   "metadata": {
    "scrolled": true
   },
   "outputs": [
    {
     "data": {
      "text/plain": [
       "(27690, 4329)"
      ]
     },
     "execution_count": 20,
     "metadata": {},
     "output_type": "execute_result"
    }
   ],
   "source": [
    "y_array.shape"
   ]
  },
  {
   "cell_type": "markdown",
   "metadata": {},
   "source": [
    "# Modeling"
   ]
  },
  {
   "cell_type": "code",
   "execution_count": 21,
   "metadata": {},
   "outputs": [],
   "source": [
    "model = Sequential()\n",
    "model.add(LSTM(256, input_shape=(X_array.shape[1], X_array.shape[2]), return_sequences=False))\n",
    "model.add(Dense(y_array.shape[1], activation='softmax'))"
   ]
  },
  {
   "cell_type": "code",
   "execution_count": 22,
   "metadata": {},
   "outputs": [],
   "source": [
    "model.compile(loss='categorical_crossentropy', optimizer='adam')"
   ]
  },
  {
   "cell_type": "markdown",
   "metadata": {},
   "source": [
    "I'm using ModelCheckpoint to save the model weights, so I don't have to retrain the model every time I restart the notebook."
   ]
  },
  {
   "cell_type": "code",
   "execution_count": 23,
   "metadata": {
    "scrolled": true
   },
   "outputs": [
    {
     "name": "stdout",
     "output_type": "stream",
     "text": [
      "Epoch 1/150\n",
      "14/14 [==============================] - 4s 158ms/step - loss: 8.3515 - val_loss: 2.0955\n",
      "Epoch 2/150\n",
      "14/14 [==============================] - 1s 93ms/step - loss: 7.4857 - val_loss: 2.2609\n",
      "Epoch 3/150\n",
      "14/14 [==============================] - 1s 93ms/step - loss: 6.7753 - val_loss: 2.4251\n",
      "Epoch 4/150\n",
      "14/14 [==============================] - 1s 93ms/step - loss: 8.0722 - val_loss: 2.5683\n",
      "Epoch 5/150\n",
      "14/14 [==============================] - 1s 95ms/step - loss: 7.6351 - val_loss: 2.6990\n",
      "Epoch 6/150\n",
      "14/14 [==============================] - 1s 99ms/step - loss: 6.3028 - val_loss: 2.7912\n",
      "Epoch 7/150\n",
      "14/14 [==============================] - 1s 100ms/step - loss: 6.5035 - val_loss: 2.8342\n",
      "Epoch 8/150\n",
      "14/14 [==============================] - 1s 96ms/step - loss: 8.1242 - val_loss: 2.9107\n",
      "Epoch 9/150\n",
      "14/14 [==============================] - 1s 96ms/step - loss: 8.5028 - val_loss: 2.9825\n",
      "Epoch 10/150\n",
      "14/14 [==============================] - 1s 102ms/step - loss: 7.9307 - val_loss: 3.0336\n",
      "Epoch 11/150\n",
      "14/14 [==============================] - 1s 100ms/step - loss: 8.4596 - val_loss: 3.0760\n",
      "Epoch 12/150\n",
      "14/14 [==============================] - 1s 102ms/step - loss: 7.6002 - val_loss: 3.1107\n",
      "Epoch 13/150\n",
      "14/14 [==============================] - 1s 103ms/step - loss: 6.9691 - val_loss: 3.1636\n",
      "Epoch 14/150\n",
      "14/14 [==============================] - 1s 101ms/step - loss: 7.3542 - val_loss: 3.2020\n",
      "Epoch 15/150\n",
      "14/14 [==============================] - 2s 114ms/step - loss: 7.1407 - val_loss: 3.2495\n",
      "Epoch 16/150\n",
      "14/14 [==============================] - 1s 103ms/step - loss: 7.7340 - val_loss: 3.2695\n",
      "Epoch 17/150\n",
      "14/14 [==============================] - 1s 106ms/step - loss: 6.0395 - val_loss: 3.2732\n",
      "Epoch 18/150\n",
      "14/14 [==============================] - 1s 107ms/step - loss: 5.9867 - val_loss: 3.2994\n",
      "Epoch 19/150\n",
      "14/14 [==============================] - 1s 106ms/step - loss: 5.9891 - val_loss: 3.3959\n",
      "Epoch 20/150\n",
      "14/14 [==============================] - 1s 103ms/step - loss: 8.2103 - val_loss: 3.3664\n",
      "Epoch 21/150\n",
      "14/14 [==============================] - 1s 107ms/step - loss: 7.3947 - val_loss: 3.3783\n",
      "Epoch 22/150\n",
      "14/14 [==============================] - 1s 108ms/step - loss: 6.9453 - val_loss: 3.4115\n",
      "Epoch 23/150\n",
      "14/14 [==============================] - 1s 108ms/step - loss: 5.1718 - val_loss: 3.4706\n",
      "Epoch 24/150\n",
      "14/14 [==============================] - 1s 107ms/step - loss: 8.3751 - val_loss: 3.4754\n",
      "Epoch 25/150\n",
      "14/14 [==============================] - 1s 108ms/step - loss: 5.6988 - val_loss: 3.5221\n",
      "Epoch 26/150\n",
      "14/14 [==============================] - 2s 111ms/step - loss: 7.7848 - val_loss: 3.5076\n",
      "Epoch 27/150\n",
      "14/14 [==============================] - 2s 112ms/step - loss: 6.1280 - val_loss: 3.5471\n",
      "Epoch 28/150\n",
      "14/14 [==============================] - 2s 112ms/step - loss: 7.3573 - val_loss: 3.5600\n",
      "Epoch 29/150\n",
      "14/14 [==============================] - 2s 112ms/step - loss: 8.3381 - val_loss: 3.5897\n",
      "Epoch 30/150\n",
      "14/14 [==============================] - 2s 110ms/step - loss: 6.8437 - val_loss: 3.6477\n",
      "Epoch 31/150\n",
      "14/14 [==============================] - 1s 107ms/step - loss: 5.7442 - val_loss: 3.7099\n",
      "Epoch 32/150\n",
      "14/14 [==============================] - 2s 109ms/step - loss: 5.7921 - val_loss: 3.6965\n",
      "Epoch 33/150\n",
      "14/14 [==============================] - 2s 111ms/step - loss: 6.3844 - val_loss: 3.6878\n",
      "Epoch 34/150\n",
      "14/14 [==============================] - 2s 111ms/step - loss: 5.3058 - val_loss: 3.7582\n",
      "Epoch 35/150\n",
      "14/14 [==============================] - 2s 111ms/step - loss: 7.9278 - val_loss: 3.7663\n",
      "Epoch 36/150\n",
      "14/14 [==============================] - 2s 112ms/step - loss: 5.9028 - val_loss: 3.8287\n",
      "Epoch 37/150\n",
      "14/14 [==============================] - 2s 111ms/step - loss: 7.5728 - val_loss: 3.8330\n",
      "Epoch 38/150\n",
      "14/14 [==============================] - 2s 116ms/step - loss: 6.2273 - val_loss: 3.7599\n",
      "Epoch 39/150\n",
      "14/14 [==============================] - 2s 112ms/step - loss: 7.8287 - val_loss: 3.7907\n",
      "Epoch 40/150\n",
      "14/14 [==============================] - 2s 136ms/step - loss: 7.9268 - val_loss: 3.7717\n",
      "Epoch 41/150\n",
      "14/14 [==============================] - 2s 129ms/step - loss: 8.5533 - val_loss: 3.8229\n",
      "Epoch 42/150\n",
      "14/14 [==============================] - 2s 125ms/step - loss: 6.2376 - val_loss: 3.8646\n",
      "Epoch 43/150\n",
      "14/14 [==============================] - 2s 139ms/step - loss: 5.5536 - val_loss: 3.9305\n",
      "Epoch 44/150\n",
      "14/14 [==============================] - 2s 122ms/step - loss: 6.3034 - val_loss: 3.9492\n",
      "Epoch 45/150\n",
      "14/14 [==============================] - 2s 123ms/step - loss: 7.3105 - val_loss: 3.9063\n",
      "Epoch 46/150\n",
      "14/14 [==============================] - 2s 124ms/step - loss: 7.9332 - val_loss: 4.0039\n",
      "Epoch 47/150\n",
      "14/14 [==============================] - 2s 129ms/step - loss: 6.1855 - val_loss: 4.0213\n",
      "Epoch 48/150\n",
      "14/14 [==============================] - 2s 122ms/step - loss: 6.0368 - val_loss: 4.0516\n",
      "Epoch 49/150\n",
      "14/14 [==============================] - 2s 126ms/step - loss: 5.4879 - val_loss: 4.0839\n",
      "Epoch 50/150\n",
      "14/14 [==============================] - 2s 137ms/step - loss: 6.8928 - val_loss: 4.0988\n",
      "Epoch 51/150\n",
      "14/14 [==============================] - 2s 154ms/step - loss: 4.2843 - val_loss: 4.1875\n",
      "Epoch 52/150\n",
      "14/14 [==============================] - 2s 164ms/step - loss: 6.7008 - val_loss: 4.0578\n",
      "Epoch 53/150\n",
      "14/14 [==============================] - 2s 158ms/step - loss: 5.3771 - val_loss: 4.0417\n",
      "Epoch 54/150\n",
      "14/14 [==============================] - 2s 110ms/step - loss: 6.6221 - val_loss: 4.0502\n",
      "Epoch 55/150\n",
      "14/14 [==============================] - 2s 128ms/step - loss: 6.1544 - val_loss: 4.1293\n",
      "Epoch 56/150\n",
      "14/14 [==============================] - 2s 151ms/step - loss: 5.6924 - val_loss: 4.1702\n",
      "Epoch 57/150\n",
      "14/14 [==============================] - 2s 149ms/step - loss: 5.5069 - val_loss: 4.1509\n",
      "Epoch 58/150\n",
      "14/14 [==============================] - 2s 133ms/step - loss: 5.7619 - val_loss: 4.2130\n",
      "Epoch 59/150\n",
      "14/14 [==============================] - 2s 145ms/step - loss: 8.0974 - val_loss: 4.2074\n",
      "Epoch 60/150\n",
      "14/14 [==============================] - 2s 148ms/step - loss: 6.2029 - val_loss: 4.3151\n",
      "Epoch 61/150\n",
      "14/14 [==============================] - 2s 163ms/step - loss: 5.5300 - val_loss: 4.3356\n",
      "Epoch 62/150\n",
      "14/14 [==============================] - 2s 141ms/step - loss: 8.3221 - val_loss: 4.3262\n",
      "Epoch 63/150\n",
      "14/14 [==============================] - 2s 147ms/step - loss: 5.5372 - val_loss: 4.4452\n",
      "Epoch 64/150\n",
      "14/14 [==============================] - 2s 166ms/step - loss: 5.8153 - val_loss: 4.3939\n",
      "Epoch 65/150\n",
      "14/14 [==============================] - 2s 154ms/step - loss: 5.0476 - val_loss: 4.4671\n",
      "Epoch 66/150\n",
      "14/14 [==============================] - 2s 135ms/step - loss: 6.1231 - val_loss: 4.4842\n",
      "Epoch 67/150\n",
      "14/14 [==============================] - 2s 139ms/step - loss: 5.3004 - val_loss: 4.6541\n",
      "Epoch 68/150\n",
      "14/14 [==============================] - 2s 140ms/step - loss: 5.1378 - val_loss: 4.6083\n",
      "Epoch 69/150\n",
      "14/14 [==============================] - 2s 145ms/step - loss: 5.6572 - val_loss: 4.6123\n",
      "Epoch 70/150\n",
      "14/14 [==============================] - 2s 127ms/step - loss: 8.0117 - val_loss: 4.6356\n",
      "Epoch 71/150\n",
      "14/14 [==============================] - 2s 141ms/step - loss: 5.7595 - val_loss: 4.7065\n",
      "Epoch 72/150\n",
      "14/14 [==============================] - 2s 142ms/step - loss: 6.8544 - val_loss: 4.5381\n",
      "Epoch 73/150\n",
      "14/14 [==============================] - 2s 115ms/step - loss: 7.4726 - val_loss: 4.4479\n",
      "Epoch 74/150\n",
      "14/14 [==============================] - 2s 117ms/step - loss: 5.4360 - val_loss: 4.4454\n",
      "Epoch 75/150\n",
      "14/14 [==============================] - 2s 118ms/step - loss: 5.2665 - val_loss: 4.4594\n",
      "Epoch 76/150\n",
      "14/14 [==============================] - 2s 116ms/step - loss: 4.9270 - val_loss: 4.6121\n",
      "Epoch 77/150\n",
      "14/14 [==============================] - 2s 115ms/step - loss: 5.9257 - val_loss: 4.4379\n",
      "Epoch 78/150\n",
      "14/14 [==============================] - 2s 114ms/step - loss: 6.1204 - val_loss: 4.4539\n",
      "Epoch 79/150\n",
      "14/14 [==============================] - 2s 114ms/step - loss: 5.1543 - val_loss: 4.4613\n",
      "Epoch 80/150\n",
      "14/14 [==============================] - 2s 115ms/step - loss: 8.6679 - val_loss: 4.3933\n",
      "Epoch 81/150\n"
     ]
    },
    {
     "name": "stdout",
     "output_type": "stream",
     "text": [
      "14/14 [==============================] - 2s 114ms/step - loss: 5.6145 - val_loss: 4.3734\n",
      "Epoch 82/150\n",
      "14/14 [==============================] - 2s 117ms/step - loss: 5.5530 - val_loss: 4.3836\n",
      "Epoch 83/150\n",
      "14/14 [==============================] - 2s 112ms/step - loss: 8.2115 - val_loss: 4.3690\n",
      "Epoch 84/150\n",
      "14/14 [==============================] - 2s 115ms/step - loss: 6.3732 - val_loss: 4.4820\n",
      "Epoch 85/150\n",
      "14/14 [==============================] - 2s 113ms/step - loss: 7.5149 - val_loss: 4.3873\n",
      "Epoch 86/150\n",
      "14/14 [==============================] - 2s 118ms/step - loss: 7.1301 - val_loss: 4.4040\n",
      "Epoch 87/150\n",
      "14/14 [==============================] - 2s 114ms/step - loss: 5.7600 - val_loss: 4.5054\n",
      "Epoch 88/150\n",
      "14/14 [==============================] - 2s 116ms/step - loss: 5.7254 - val_loss: 4.5100\n",
      "Epoch 89/150\n",
      "14/14 [==============================] - 2s 117ms/step - loss: 5.5202 - val_loss: 4.6208\n",
      "Epoch 90/150\n",
      "14/14 [==============================] - 2s 116ms/step - loss: 7.2549 - val_loss: 4.5917\n",
      "Epoch 91/150\n",
      "14/14 [==============================] - 2s 117ms/step - loss: 6.5387 - val_loss: 4.7240\n",
      "Epoch 92/150\n",
      "14/14 [==============================] - 2s 117ms/step - loss: 7.8175 - val_loss: 4.6963\n",
      "Epoch 93/150\n",
      "14/14 [==============================] - 2s 118ms/step - loss: 6.3837 - val_loss: 4.8262\n",
      "Epoch 94/150\n",
      "14/14 [==============================] - 2s 115ms/step - loss: 4.6836 - val_loss: 4.7934\n",
      "Epoch 95/150\n",
      "14/14 [==============================] - 2s 125ms/step - loss: 6.2912 - val_loss: 4.9894\n",
      "Epoch 96/150\n",
      "14/14 [==============================] - 2s 119ms/step - loss: 5.6234 - val_loss: 4.9675\n",
      "Epoch 97/150\n",
      "14/14 [==============================] - 2s 122ms/step - loss: 5.3016 - val_loss: 5.0370\n",
      "Epoch 98/150\n",
      "14/14 [==============================] - 2s 117ms/step - loss: 5.4868 - val_loss: 5.1954\n",
      "Epoch 99/150\n",
      "14/14 [==============================] - 2s 113ms/step - loss: 7.0048 - val_loss: 5.0598\n",
      "Epoch 100/150\n",
      "14/14 [==============================] - 2s 115ms/step - loss: 5.6730 - val_loss: 5.1515\n",
      "Epoch 101/150\n",
      "14/14 [==============================] - 2s 113ms/step - loss: 7.3615 - val_loss: 5.0661\n",
      "Epoch 102/150\n",
      "14/14 [==============================] - 2s 114ms/step - loss: 6.1164 - val_loss: 5.0969\n",
      "Epoch 103/150\n",
      "14/14 [==============================] - 2s 113ms/step - loss: 6.2806 - val_loss: 5.1381\n",
      "Epoch 104/150\n",
      "14/14 [==============================] - 2s 112ms/step - loss: 6.3499 - val_loss: 5.1820\n",
      "Epoch 105/150\n",
      "14/14 [==============================] - 2s 113ms/step - loss: 5.1139 - val_loss: 5.2306\n",
      "Epoch 106/150\n",
      "14/14 [==============================] - 2s 114ms/step - loss: 6.0864 - val_loss: 5.2168\n",
      "Epoch 107/150\n",
      "14/14 [==============================] - 2s 112ms/step - loss: 6.9290 - val_loss: 5.2727\n",
      "Epoch 108/150\n",
      "14/14 [==============================] - 2s 111ms/step - loss: 4.5727 - val_loss: 5.2561\n",
      "Epoch 109/150\n",
      "14/14 [==============================] - 2s 111ms/step - loss: 5.3401 - val_loss: 5.3415\n",
      "Epoch 110/150\n",
      "14/14 [==============================] - 2s 115ms/step - loss: 5.2301 - val_loss: 5.5715\n",
      "Epoch 111/150\n",
      "14/14 [==============================] - 2s 113ms/step - loss: 6.3970 - val_loss: 5.3971\n",
      "Epoch 112/150\n",
      "14/14 [==============================] - 2s 112ms/step - loss: 6.8462 - val_loss: 5.6657\n",
      "Epoch 113/150\n",
      "14/14 [==============================] - 2s 116ms/step - loss: 7.4879 - val_loss: 5.5798\n",
      "Epoch 114/150\n",
      "14/14 [==============================] - 2s 116ms/step - loss: 6.1957 - val_loss: 5.6752\n",
      "Epoch 115/150\n",
      "14/14 [==============================] - 2s 117ms/step - loss: 4.8668 - val_loss: 5.6151\n",
      "Epoch 116/150\n",
      "14/14 [==============================] - 2s 143ms/step - loss: 5.5189 - val_loss: 5.7001\n",
      "Epoch 117/150\n",
      "14/14 [==============================] - 2s 127ms/step - loss: 5.6394 - val_loss: 5.7042\n",
      "Epoch 118/150\n",
      "14/14 [==============================] - 2s 148ms/step - loss: 6.1929 - val_loss: 5.7156\n",
      "Epoch 119/150\n",
      "14/14 [==============================] - 2s 117ms/step - loss: 5.2046 - val_loss: 5.7587\n",
      "Epoch 120/150\n",
      "14/14 [==============================] - 2s 123ms/step - loss: 6.0039 - val_loss: 5.7468\n",
      "Epoch 121/150\n",
      "14/14 [==============================] - 2s 115ms/step - loss: 6.4820 - val_loss: 5.7948\n",
      "Epoch 122/150\n",
      "14/14 [==============================] - 2s 123ms/step - loss: 4.4815 - val_loss: 5.9238\n",
      "Epoch 123/150\n",
      "14/14 [==============================] - 2s 120ms/step - loss: 5.3673 - val_loss: 5.8476\n",
      "Epoch 124/150\n",
      "14/14 [==============================] - 2s 116ms/step - loss: 7.6722 - val_loss: 5.8767\n",
      "Epoch 125/150\n",
      "14/14 [==============================] - 2s 116ms/step - loss: 5.5217 - val_loss: 5.7843\n",
      "Epoch 126/150\n",
      "14/14 [==============================] - 2s 116ms/step - loss: 6.5079 - val_loss: 6.1169\n",
      "Epoch 127/150\n",
      "14/14 [==============================] - 2s 117ms/step - loss: 6.2991 - val_loss: 6.0040\n",
      "Epoch 128/150\n",
      "14/14 [==============================] - 2s 141ms/step - loss: 5.3418 - val_loss: 5.9588\n",
      "Epoch 129/150\n",
      "14/14 [==============================] - 2s 119ms/step - loss: 5.5664 - val_loss: 5.7809\n",
      "Epoch 130/150\n",
      "14/14 [==============================] - 2s 116ms/step - loss: 7.3113 - val_loss: 5.8620\n",
      "Epoch 131/150\n",
      "14/14 [==============================] - 2s 114ms/step - loss: 6.1913 - val_loss: 5.9033\n",
      "Epoch 132/150\n",
      "14/14 [==============================] - 2s 119ms/step - loss: 6.4376 - val_loss: 6.0049\n",
      "Epoch 133/150\n",
      "14/14 [==============================] - 2s 122ms/step - loss: 6.6538 - val_loss: 5.9094\n",
      "Epoch 134/150\n",
      "14/14 [==============================] - 2s 132ms/step - loss: 5.0593 - val_loss: 6.4086\n",
      "Epoch 135/150\n",
      "14/14 [==============================] - 2s 127ms/step - loss: 7.3533 - val_loss: 6.1266\n",
      "Epoch 136/150\n",
      "14/14 [==============================] - 2s 125ms/step - loss: 6.4257 - val_loss: 6.1465\n",
      "Epoch 137/150\n",
      "14/14 [==============================] - 2s 133ms/step - loss: 6.4592 - val_loss: 6.0551\n",
      "Epoch 138/150\n",
      "14/14 [==============================] - 1s 107ms/step - loss: 7.5093 - val_loss: 6.1586\n",
      "Epoch 139/150\n",
      "14/14 [==============================] - 2s 115ms/step - loss: 7.0452 - val_loss: 6.1200\n",
      "Epoch 140/150\n",
      "14/14 [==============================] - 2s 130ms/step - loss: 6.1190 - val_loss: 6.2381\n",
      "Epoch 141/150\n",
      "14/14 [==============================] - 2s 115ms/step - loss: 5.7641 - val_loss: 6.3024\n",
      "Epoch 142/150\n",
      "14/14 [==============================] - 2s 120ms/step - loss: 5.5321 - val_loss: 6.0726\n",
      "Epoch 143/150\n",
      "14/14 [==============================] - 2s 126ms/step - loss: 4.6928 - val_loss: 6.1460\n",
      "Epoch 144/150\n",
      "14/14 [==============================] - 2s 112ms/step - loss: 5.6268 - val_loss: 6.2149\n",
      "Epoch 145/150\n",
      "14/14 [==============================] - 2s 111ms/step - loss: 5.6819 - val_loss: 6.2312\n",
      "Epoch 146/150\n",
      "14/14 [==============================] - 2s 142ms/step - loss: 4.7668 - val_loss: 6.4606\n",
      "Epoch 147/150\n",
      "14/14 [==============================] - 2s 130ms/step - loss: 6.1613 - val_loss: 6.2913\n",
      "Epoch 148/150\n",
      "14/14 [==============================] - 2s 122ms/step - loss: 5.4033 - val_loss: 6.3429\n",
      "Epoch 149/150\n",
      "14/14 [==============================] - 2s 113ms/step - loss: 5.5197 - val_loss: 6.3743\n",
      "Epoch 150/150\n",
      "14/14 [==============================] - 2s 120ms/step - loss: 5.2566 - val_loss: 6.3846\n"
     ]
    }
   ],
   "source": [
    "history = model.fit(X_array, y_array, validation_split = 0.2, epochs=150, batch_size=256)"
   ]
  },
  {
   "cell_type": "code",
   "execution_count": 24,
   "metadata": {
    "scrolled": true
   },
   "outputs": [
    {
     "data": {
      "image/png": "[encoded data removed]",
      "text/plain": [
       "<Figure size 432x288 with 1 Axes>"
      ]
     },
     "metadata": {
      "needs_background": "light"
     },
     "output_type": "display_data"
    }
   ],
   "source": [
    "plt.plot(history.history['loss'])\n",
    "plt.plot(history.history['val_loss'])\n",
    "plt.title('Model Loss - ADAM')\n",
    "plt.ylabel('Loss')\n",
    "plt.xlabel('Epoch')\n",
    "plt.legend(['Train', 'Test'], loc='upper right')\n",
    "plt.show()"
   ]
  },
  {
   "cell_type": "markdown",
   "metadata": {},
   "source": [
    "This model is underfit, evidenced by the high test loss that doesn't converge. More training data might solve this problem. Because of the underfitting, the model will likely not output good results."
   ]
  },
  {
   "cell_type": "markdown",
   "metadata": {},
   "source": [
    "Now to test the model. I input the beginning of a cover letter. The loop deletes the first token in the sample, predicts on a sequence of the specified length, append the predicted word to the end of the sample. The first word is dropped and the model predicts on the next sequence. "
   ]
  },
  {
   "cell_type": "code",
   "execution_count": 25,
   "metadata": {},
   "outputs": [
    {
     "name": "stdout",
     "output_type": "stream",
     "text": [
      "I would like to apply would countries from i where 9 completed experience the would countries from i where 9 completed experience the would countries from i where 9 completed\n"
     ]
    }
   ],
   "source": [
    "sample = \"I would like to apply\"\n",
    "sample = sample.lower()\n",
    "sample_split = word_tokenize(sample)\n",
    "sample_split.insert(0, 0)\n",
    "\n",
    "for i in range(25):\n",
    "    sample_split = sample_split[1:]\n",
    "    \n",
    "    sample_ids = [word_to_id[word] for word in sample_split]\n",
    "\n",
    "    sample_array = tf.convert_to_tensor(sample_ids)\n",
    "    sample_array = [list(sample_array)]\n",
    "    sample_array = np.reshape(sample_array, (1, seq_len, 1))\n",
    "    prediction = model.predict(sample_array)\n",
    "\n",
    "\n",
    "    pred_index = prediction[0].argmax()\n",
    "    new_word = tokens_list[pred_index]\n",
    "    sample_split.append(new_word)\n",
    "    sample = sample + ' ' + new_word\n",
    "\n",
    "sample = sample.capitalize()\n",
    "print(sample)"
   ]
  },
  {
   "cell_type": "markdown",
   "metadata": {},
   "source": [
    "# Model 2"
   ]
  },
  {
   "cell_type": "markdown",
   "metadata": {},
   "source": [
    "This model is the same as model 1 except the optimzer is sigmoid gradient descent."
   ]
  },
  {
   "cell_type": "code",
   "execution_count": 26,
   "metadata": {},
   "outputs": [],
   "source": [
    "model_2 = Sequential()\n",
    "model_2.add(LSTM(256, input_shape=(X_array.shape[1], X_array.shape[2])))\n",
    "model_2.add(Dense(y_array.shape[1], activation='softmax'))"
   ]
  },
  {
   "cell_type": "code",
   "execution_count": 27,
   "metadata": {},
   "outputs": [],
   "source": [
    "model_2.compile(loss='categorical_crossentropy', optimizer='SGD')"
   ]
  },
  {
   "cell_type": "code",
   "execution_count": 28,
   "metadata": {
    "scrolled": true
   },
   "outputs": [
    {
     "name": "stdout",
     "output_type": "stream",
     "text": [
      "Epoch 1/150\n",
      "14/14 [==============================] - 4s 144ms/step - loss: 7.5994 - val_loss: 1.9752\n",
      "Epoch 2/150\n",
      "14/14 [==============================] - 2s 114ms/step - loss: 9.2873 - val_loss: 1.9756\n",
      "Epoch 3/150\n",
      "14/14 [==============================] - 2s 115ms/step - loss: 6.7208 - val_loss: 1.9762\n",
      "Epoch 4/150\n",
      "14/14 [==============================] - 2s 115ms/step - loss: 7.2711 - val_loss: 1.9765\n",
      "Epoch 5/150\n",
      "14/14 [==============================] - 2s 112ms/step - loss: 9.4867 - val_loss: 1.9767\n",
      "Epoch 6/150\n",
      "14/14 [==============================] - 2s 113ms/step - loss: 8.2088 - val_loss: 1.9770\n",
      "Epoch 7/150\n",
      "14/14 [==============================] - 2s 110ms/step - loss: 6.6097 - val_loss: 1.9773\n",
      "Epoch 8/150\n",
      "14/14 [==============================] - 2s 117ms/step - loss: 7.4260 - val_loss: 1.9776\n",
      "Epoch 9/150\n",
      "14/14 [==============================] - 2s 111ms/step - loss: 8.4304 - val_loss: 1.9779\n",
      "Epoch 10/150\n",
      "14/14 [==============================] - 2s 114ms/step - loss: 12.5392 - val_loss: 1.9783\n",
      "Epoch 11/150\n",
      "14/14 [==============================] - 2s 109ms/step - loss: 8.0560 - val_loss: 1.9786\n",
      "Epoch 12/150\n",
      "14/14 [==============================] - 2s 122ms/step - loss: 9.7131 - val_loss: 1.9789\n",
      "Epoch 13/150\n",
      "14/14 [==============================] - 1s 108ms/step - loss: 9.1582 - val_loss: 1.9792\n",
      "Epoch 14/150\n",
      "14/14 [==============================] - 1s 108ms/step - loss: 8.3743 - val_loss: 1.9795\n",
      "Epoch 15/150\n",
      "14/14 [==============================] - 2s 112ms/step - loss: 11.4303 - val_loss: 1.9799\n",
      "Epoch 16/150\n",
      "14/14 [==============================] - 2s 110ms/step - loss: 7.5674 - val_loss: 1.9802\n",
      "Epoch 17/150\n",
      "14/14 [==============================] - 2s 110ms/step - loss: 8.6400 - val_loss: 1.9805\n",
      "Epoch 18/150\n",
      "14/14 [==============================] - 1s 107ms/step - loss: 7.8420 - val_loss: 1.9809\n",
      "Epoch 19/150\n",
      "14/14 [==============================] - 1s 108ms/step - loss: 6.7370 - val_loss: 1.9812\n",
      "Epoch 20/150\n",
      "14/14 [==============================] - 2s 109ms/step - loss: 8.9865 - val_loss: 1.9815\n",
      "Epoch 21/150\n",
      "14/14 [==============================] - 1s 108ms/step - loss: 7.5250 - val_loss: 1.9819\n",
      "Epoch 22/150\n",
      "14/14 [==============================] - 1s 108ms/step - loss: 8.2402 - val_loss: 1.9822\n",
      "Epoch 23/150\n",
      "14/14 [==============================] - 2s 113ms/step - loss: 9.9150 - val_loss: 1.9825\n",
      "Epoch 24/150\n",
      "14/14 [==============================] - 2s 110ms/step - loss: 8.2413 - val_loss: 1.9829\n",
      "Epoch 25/150\n",
      "14/14 [==============================] - 2s 110ms/step - loss: 7.3969 - val_loss: 1.9832\n",
      "Epoch 26/150\n",
      "14/14 [==============================] - 1s 108ms/step - loss: 10.0706 - val_loss: 1.9835\n",
      "Epoch 27/150\n",
      "14/14 [==============================] - 2s 110ms/step - loss: 7.2806 - val_loss: 1.9839\n",
      "Epoch 28/150\n",
      "14/14 [==============================] - 1s 108ms/step - loss: 8.1620 - val_loss: 1.9838\n",
      "Epoch 29/150\n",
      "14/14 [==============================] - 1s 108ms/step - loss: 7.5128 - val_loss: 1.9845\n",
      "Epoch 30/150\n",
      "14/14 [==============================] - 2s 113ms/step - loss: 7.7970 - val_loss: 1.9849\n",
      "Epoch 31/150\n",
      "14/14 [==============================] - 2s 112ms/step - loss: 7.0467 - val_loss: 1.9853\n",
      "Epoch 32/150\n",
      "14/14 [==============================] - 2s 109ms/step - loss: 7.9901 - val_loss: 1.9862\n",
      "Epoch 33/150\n",
      "14/14 [==============================] - 1s 108ms/step - loss: 6.9851 - val_loss: 1.9865\n",
      "Epoch 34/150\n",
      "14/14 [==============================] - 1s 107ms/step - loss: 6.6900 - val_loss: 1.9868\n",
      "Epoch 35/150\n",
      "14/14 [==============================] - 2s 109ms/step - loss: 7.0106 - val_loss: 1.9871\n",
      "Epoch 36/150\n",
      "14/14 [==============================] - 1s 108ms/step - loss: 6.9449 - val_loss: 1.9875\n",
      "Epoch 37/150\n",
      "14/14 [==============================] - 2s 110ms/step - loss: 8.9870 - val_loss: 1.9878\n",
      "Epoch 38/150\n",
      "14/14 [==============================] - 2s 112ms/step - loss: 8.8752 - val_loss: 1.9881\n",
      "Epoch 39/150\n",
      "14/14 [==============================] - 2s 113ms/step - loss: 9.2098 - val_loss: 1.9885\n",
      "Epoch 40/150\n",
      "14/14 [==============================] - 2s 115ms/step - loss: 6.7644 - val_loss: 1.9896\n",
      "Epoch 41/150\n",
      "14/14 [==============================] - 2s 112ms/step - loss: 8.2467 - val_loss: 1.9900\n",
      "Epoch 42/150\n",
      "14/14 [==============================] - 2s 123ms/step - loss: 10.1485 - val_loss: 1.9903\n",
      "Epoch 43/150\n",
      "14/14 [==============================] - 2s 111ms/step - loss: 9.6797 - val_loss: 1.9906\n",
      "Epoch 44/150\n",
      "14/14 [==============================] - 2s 114ms/step - loss: 7.7712 - val_loss: 1.9909\n",
      "Epoch 45/150\n",
      "14/14 [==============================] - 2s 114ms/step - loss: 8.7240 - val_loss: 1.9912\n",
      "Epoch 46/150\n",
      "14/14 [==============================] - 2s 118ms/step - loss: 7.7673 - val_loss: 1.9916\n",
      "Epoch 47/150\n",
      "14/14 [==============================] - 2s 116ms/step - loss: 7.2862 - val_loss: 1.9919\n",
      "Epoch 48/150\n",
      "14/14 [==============================] - 2s 114ms/step - loss: 8.7008 - val_loss: 1.9922\n",
      "Epoch 49/150\n",
      "14/14 [==============================] - 2s 120ms/step - loss: 9.9213 - val_loss: 1.9926\n",
      "Epoch 50/150\n",
      "14/14 [==============================] - 2s 117ms/step - loss: 9.1578 - val_loss: 1.9929\n",
      "Epoch 51/150\n",
      "14/14 [==============================] - 2s 110ms/step - loss: 8.4658 - val_loss: 1.9932\n",
      "Epoch 52/150\n",
      "14/14 [==============================] - 2s 110ms/step - loss: 7.4961 - val_loss: 1.9936\n",
      "Epoch 53/150\n",
      "14/14 [==============================] - 2s 112ms/step - loss: 7.9162 - val_loss: 1.9939\n",
      "Epoch 54/150\n",
      "14/14 [==============================] - 2s 110ms/step - loss: 10.3070 - val_loss: 1.9942\n",
      "Epoch 55/150\n",
      "14/14 [==============================] - 2s 109ms/step - loss: 8.0786 - val_loss: 1.9945\n",
      "Epoch 56/150\n",
      "14/14 [==============================] - 1s 108ms/step - loss: 7.4520 - val_loss: 1.9949\n",
      "Epoch 57/150\n",
      "14/14 [==============================] - 2s 108ms/step - loss: 8.9947 - val_loss: 1.9952\n",
      "Epoch 58/150\n",
      "14/14 [==============================] - 2s 110ms/step - loss: 11.9603 - val_loss: 1.9956\n",
      "Epoch 59/150\n",
      "14/14 [==============================] - 2s 109ms/step - loss: 11.1905 - val_loss: 1.9959\n",
      "Epoch 60/150\n",
      "14/14 [==============================] - 2s 113ms/step - loss: 8.1004 - val_loss: 1.9962\n",
      "Epoch 61/150\n",
      "14/14 [==============================] - 2s 109ms/step - loss: 8.4951 - val_loss: 1.9966\n",
      "Epoch 62/150\n",
      "14/14 [==============================] - 2s 111ms/step - loss: 8.4674 - val_loss: 1.9969\n",
      "Epoch 63/150\n",
      "14/14 [==============================] - 2s 109ms/step - loss: 6.4505 - val_loss: 1.9972\n",
      "Epoch 64/150\n",
      "14/14 [==============================] - 2s 109ms/step - loss: 6.5092 - val_loss: 1.9976\n",
      "Epoch 65/150\n",
      "14/14 [==============================] - 2s 114ms/step - loss: 6.8133 - val_loss: 1.9979\n",
      "Epoch 66/150\n",
      "14/14 [==============================] - 2s 110ms/step - loss: 7.1691 - val_loss: 1.9982\n",
      "Epoch 67/150\n",
      "14/14 [==============================] - 2s 120ms/step - loss: 7.7022 - val_loss: 1.9985\n",
      "Epoch 68/150\n",
      "14/14 [==============================] - 2s 112ms/step - loss: 8.0705 - val_loss: 1.9989\n",
      "Epoch 69/150\n",
      "14/14 [==============================] - 1s 108ms/step - loss: 6.4525 - val_loss: 1.9992\n",
      "Epoch 70/150\n",
      "14/14 [==============================] - 1s 107ms/step - loss: 8.9990 - val_loss: 1.9995\n",
      "Epoch 71/150\n",
      "14/14 [==============================] - 2s 110ms/step - loss: 9.7359 - val_loss: 1.9999\n",
      "Epoch 72/150\n",
      "14/14 [==============================] - 2s 109ms/step - loss: 9.4901 - val_loss: 2.0002\n",
      "Epoch 73/150\n",
      "14/14 [==============================] - 2s 111ms/step - loss: 8.4122 - val_loss: 2.0006\n",
      "Epoch 74/150\n",
      "14/14 [==============================] - 2s 114ms/step - loss: 8.9713 - val_loss: 2.0009\n",
      "Epoch 75/150\n",
      "14/14 [==============================] - 2s 114ms/step - loss: 8.7586 - val_loss: 2.0013\n",
      "Epoch 76/150\n",
      "14/14 [==============================] - 2s 109ms/step - loss: 8.1577 - val_loss: 2.0017\n",
      "Epoch 77/150\n",
      "14/14 [==============================] - 2s 109ms/step - loss: 9.5767 - val_loss: 2.0020\n",
      "Epoch 78/150\n",
      "14/14 [==============================] - 1s 107ms/step - loss: 7.8947 - val_loss: 2.0023\n",
      "Epoch 79/150\n",
      "14/14 [==============================] - ETA: 0s - loss: 6.953 - 1s 107ms/step - loss: 7.0477 - val_loss: 2.0027\n",
      "Epoch 80/150\n",
      "14/14 [==============================] - 1s 108ms/step - loss: 9.7034 - val_loss: 2.0030\n",
      "Epoch 81/150\n"
     ]
    },
    {
     "name": "stdout",
     "output_type": "stream",
     "text": [
      "14/14 [==============================] - ETA: 0s - loss: 7.965 - 2s 112ms/step - loss: 7.9918 - val_loss: 2.0033\n",
      "Epoch 82/150\n",
      "14/14 [==============================] - 2s 111ms/step - loss: 8.7273 - val_loss: 2.0036\n",
      "Epoch 83/150\n",
      "14/14 [==============================] - 1s 108ms/step - loss: 6.8384 - val_loss: 2.0040\n",
      "Epoch 84/150\n",
      "14/14 [==============================] - 1s 108ms/step - loss: 10.4531 - val_loss: 2.0043\n",
      "Epoch 85/150\n",
      "14/14 [==============================] - 1s 108ms/step - loss: 8.3330 - val_loss: 2.0047\n",
      "Epoch 86/150\n",
      "14/14 [==============================] - 1s 108ms/step - loss: 8.1347 - val_loss: 2.0051\n",
      "Epoch 87/150\n",
      "14/14 [==============================] - 2s 110ms/step - loss: 6.7960 - val_loss: 2.0054\n",
      "Epoch 88/150\n",
      "14/14 [==============================] - 2s 109ms/step - loss: 8.2062 - val_loss: 2.0057\n",
      "Epoch 89/150\n",
      "14/14 [==============================] - 1s 108ms/step - loss: 7.1955 - val_loss: 2.0060\n",
      "Epoch 90/150\n",
      "14/14 [==============================] - 2s 108ms/step - loss: 9.3306 - val_loss: 2.0063\n",
      "Epoch 91/150\n",
      "14/14 [==============================] - 2s 111ms/step - loss: 7.0258 - val_loss: 2.0067\n",
      "Epoch 92/150\n",
      "14/14 [==============================] - 2s 109ms/step - loss: 7.5765 - val_loss: 2.0070\n",
      "Epoch 93/150\n",
      "14/14 [==============================] - 2s 109ms/step - loss: 6.3828 - val_loss: 2.0073\n",
      "Epoch 94/150\n",
      "14/14 [==============================] - 1s 107ms/step - loss: 7.7948 - val_loss: 2.0076\n",
      "Epoch 95/150\n",
      "14/14 [==============================] - 2s 110ms/step - loss: 8.4686 - val_loss: 2.0080\n",
      "Epoch 96/150\n",
      "14/14 [==============================] - 2s 116ms/step - loss: 8.5365 - val_loss: 2.0083\n",
      "Epoch 97/150\n",
      "14/14 [==============================] - 1s 106ms/step - loss: 6.8045 - val_loss: 2.0086\n",
      "Epoch 98/150\n",
      "14/14 [==============================] - 2s 109ms/step - loss: 8.5394 - val_loss: 2.0089\n",
      "Epoch 99/150\n",
      "14/14 [==============================] - 2s 136ms/step - loss: 8.4285 - val_loss: 2.0092\n",
      "Epoch 100/150\n",
      "14/14 [==============================] - 2s 123ms/step - loss: 8.1784 - val_loss: 2.0095\n",
      "Epoch 101/150\n",
      "14/14 [==============================] - 2s 131ms/step - loss: 9.0786 - val_loss: 2.0093\n",
      "Epoch 102/150\n",
      "14/14 [==============================] - 2s 127ms/step - loss: 9.3629 - val_loss: 2.0096\n",
      "Epoch 103/150\n",
      "14/14 [==============================] - 2s 139ms/step - loss: 7.8089 - val_loss: 2.0099\n",
      "Epoch 104/150\n",
      "14/14 [==============================] - 2s 152ms/step - loss: 6.3267 - val_loss: 2.0102\n",
      "Epoch 105/150\n",
      "14/14 [==============================] - 2s 121ms/step - loss: 8.3755 - val_loss: 2.0105\n",
      "Epoch 106/150\n",
      "14/14 [==============================] - 2s 135ms/step - loss: 7.9696 - val_loss: 2.0108\n",
      "Epoch 107/150\n",
      "14/14 [==============================] - 2s 142ms/step - loss: 10.2152 - val_loss: 2.0112\n",
      "Epoch 108/150\n",
      "14/14 [==============================] - 2s 110ms/step - loss: 7.8380 - val_loss: 2.0116\n",
      "Epoch 109/150\n",
      "14/14 [==============================] - 2s 113ms/step - loss: 6.4487 - val_loss: 2.0123\n",
      "Epoch 110/150\n",
      "14/14 [==============================] - 2s 109ms/step - loss: 9.1894 - val_loss: 2.0126\n",
      "Epoch 111/150\n",
      "14/14 [==============================] - 1s 107ms/step - loss: 11.3055 - val_loss: 2.0130\n",
      "Epoch 112/150\n",
      "14/14 [==============================] - 2s 109ms/step - loss: 7.2303 - val_loss: 2.0133\n",
      "Epoch 113/150\n",
      "14/14 [==============================] - 2s 109ms/step - loss: 7.9413 - val_loss: 2.0137\n",
      "Epoch 114/150\n",
      "14/14 [==============================] - 2s 111ms/step - loss: 6.8146 - val_loss: 2.0140\n",
      "Epoch 115/150\n",
      "14/14 [==============================] - 2s 114ms/step - loss: 9.9624 - val_loss: 2.0143\n",
      "Epoch 116/150\n",
      "14/14 [==============================] - 2s 110ms/step - loss: 9.2094 - val_loss: 2.0147\n",
      "Epoch 117/150\n",
      "14/14 [==============================] - 2s 109ms/step - loss: 8.1888 - val_loss: 2.0149\n",
      "Epoch 118/150\n",
      "14/14 [==============================] - 1s 107ms/step - loss: 8.8875 - val_loss: 2.0153\n",
      "Epoch 119/150\n",
      "14/14 [==============================] - 2s 112ms/step - loss: 9.3272 - val_loss: 2.0156\n",
      "Epoch 120/150\n",
      "14/14 [==============================] - 2s 118ms/step - loss: 7.9880 - val_loss: 2.0159\n",
      "Epoch 121/150\n",
      "14/14 [==============================] - 2s 109ms/step - loss: 9.9796 - val_loss: 2.0164\n",
      "Epoch 122/150\n",
      "14/14 [==============================] - 2s 111ms/step - loss: 8.8549 - val_loss: 2.0167\n",
      "Epoch 123/150\n",
      "14/14 [==============================] - 2s 110ms/step - loss: 7.5675 - val_loss: 2.0170\n",
      "Epoch 124/150\n",
      "14/14 [==============================] - 2s 109ms/step - loss: 7.8975 - val_loss: 2.0174\n",
      "Epoch 125/150\n",
      "14/14 [==============================] - 1s 108ms/step - loss: 7.9065 - val_loss: 2.0178\n",
      "Epoch 126/150\n",
      "14/14 [==============================] - 2s 124ms/step - loss: 7.0708 - val_loss: 2.0180\n",
      "Epoch 127/150\n",
      "14/14 [==============================] - 2s 116ms/step - loss: 8.0227 - val_loss: 2.0184\n",
      "Epoch 128/150\n",
      "14/14 [==============================] - 2s 114ms/step - loss: 8.8074 - val_loss: 2.0187\n",
      "Epoch 129/150\n",
      "14/14 [==============================] - 2s 111ms/step - loss: 7.3655 - val_loss: 2.0191\n",
      "Epoch 130/150\n",
      "14/14 [==============================] - 2s 109ms/step - loss: 8.7043 - val_loss: 2.0194\n",
      "Epoch 131/150\n",
      "14/14 [==============================] - 2s 109ms/step - loss: 7.5339 - val_loss: 2.0198\n",
      "Epoch 132/150\n",
      "14/14 [==============================] - 2s 110ms/step - loss: 7.2682 - val_loss: 2.0201\n",
      "Epoch 133/150\n",
      "14/14 [==============================] - 2s 119ms/step - loss: 7.9986 - val_loss: 2.0204\n",
      "Epoch 134/150\n",
      "14/14 [==============================] - 2s 119ms/step - loss: 7.0272 - val_loss: 2.0208\n",
      "Epoch 135/150\n",
      "14/14 [==============================] - 1s 108ms/step - loss: 8.5692 - val_loss: 2.0211\n",
      "Epoch 136/150\n",
      "14/14 [==============================] - 2s 110ms/step - loss: 6.5800 - val_loss: 2.0214\n",
      "Epoch 137/150\n",
      "14/14 [==============================] - 2s 110ms/step - loss: 8.6105 - val_loss: 2.0217\n",
      "Epoch 138/150\n",
      "14/14 [==============================] - 2s 110ms/step - loss: 6.9588 - val_loss: 2.0221\n",
      "Epoch 139/150\n",
      "14/14 [==============================] - 2s 113ms/step - loss: 6.9801 - val_loss: 2.0224\n",
      "Epoch 140/150\n",
      "14/14 [==============================] - 2s 108ms/step - loss: 10.8585 - val_loss: 2.0227\n",
      "Epoch 141/150\n",
      "14/14 [==============================] - 2s 110ms/step - loss: 7.7249 - val_loss: 2.0231\n",
      "Epoch 142/150\n",
      "14/14 [==============================] - 2s 108ms/step - loss: 10.3234 - val_loss: 2.0234\n",
      "Epoch 143/150\n",
      "14/14 [==============================] - 2s 121ms/step - loss: 6.8834 - val_loss: 2.0237\n",
      "Epoch 144/150\n",
      "14/14 [==============================] - 2s 116ms/step - loss: 6.8096 - val_loss: 2.0241\n",
      "Epoch 145/150\n",
      "14/14 [==============================] - 2s 122ms/step - loss: 7.3768 - val_loss: 2.0244\n",
      "Epoch 146/150\n",
      "14/14 [==============================] - 2s 113ms/step - loss: 7.4621 - val_loss: 2.0247\n",
      "Epoch 147/150\n",
      "14/14 [==============================] - 2s 108ms/step - loss: 7.0986 - val_loss: 2.0250\n",
      "Epoch 148/150\n",
      "14/14 [==============================] - 2s 110ms/step - loss: 5.8636 - val_loss: 2.0252\n",
      "Epoch 149/150\n",
      "14/14 [==============================] - 2s 123ms/step - loss: 7.9006 - val_loss: 2.0255\n",
      "Epoch 150/150\n",
      "14/14 [==============================] - 2s 109ms/step - loss: 7.7672 - val_loss: 2.0258\n"
     ]
    }
   ],
   "source": [
    "history_2 = model_2.fit(X_array, y_array, validation_split = 0.2, epochs=150, batch_size=256)"
   ]
  },
  {
   "cell_type": "code",
   "execution_count": 29,
   "metadata": {},
   "outputs": [
    {
     "data": {
      "image/png": "[encoded data removed]",
      "text/plain": [
       "<Figure size 432x288 with 1 Axes>"
      ]
     },
     "metadata": {
      "needs_background": "light"
     },
     "output_type": "display_data"
    }
   ],
   "source": [
    "plt.plot(history_2.history['loss'])\n",
    "plt.plot(history_2.history['val_loss'])\n",
    "plt.title('Model Loss - SGD')\n",
    "plt.ylabel('Loss')\n",
    "plt.xlabel('Epoch')\n",
    "plt.legend(['Train', 'Test'], loc='upper right')\n",
    "plt.show()"
   ]
  },
  {
   "cell_type": "code",
   "execution_count": 30,
   "metadata": {
    "scrolled": true
   },
   "outputs": [
    {
     "name": "stdout",
     "output_type": "stream",
     "text": [
      "I would like to apply projects projects projects projects projects projects projects projects projects projects projects projects projects projects projects projects projects projects projects projects projects projects projects projects projects\n"
     ]
    }
   ],
   "source": [
    "sample = \"I would like to apply\"\n",
    "sample = sample.lower()\n",
    "sample_split = word_tokenize(sample)\n",
    "sample_split.insert(0, 0)\n",
    "\n",
    "for i in range(25):\n",
    "    sample_split = sample_split[1:]\n",
    "\n",
    "    sample_ids = [word_to_id[word] for word in sample_split]\n",
    "\n",
    "    sample_array = tf.convert_to_tensor(sample_ids)\n",
    "    sample_array = [list(sample_array)]\n",
    "    sample_array = np.reshape(sample_array, (1, seq_len, 1))\n",
    "    prediction = model_2.predict(sample_array)\n",
    "\n",
    "\n",
    "    pred_index = prediction[0].argmax()\n",
    "    new_word = tokens_list[pred_index]\n",
    "    sample_split.append(new_word)\n",
    "    sample = sample + ' ' + new_word\n",
    "\n",
    "sample = sample.capitalize()\n",
    "print(sample)"
   ]
  },
  {
   "cell_type": "markdown",
   "metadata": {},
   "source": [
    "The output of both of these models is English text, but it does not make sense. The first model (using ADAM optimizer) seems to be better as the loss of the training and test sets actually do see to approach convergence. The second model's loss never changes. Since both models have an underfitting problem, the results could probably be improved by more training data. Neural nets require large training sets, and my corpus only contains 51 cover letter samples."
   ]
  }
 ],
 "metadata": {
  "kernelspec": {
   "display_name": "Python 3",
   "language": "python",
   "name": "python3"
  },
  "language_info": {
   "codemirror_mode": {
    "name": "ipython",
    "version": 3
   },
   "file_extension": ".py",
   "mimetype": "text/x-python",
   "name": "python",
   "nbconvert_exporter": "python",
   "pygments_lexer": "ipython3",
   "version": "3.7.6"
  }
 },
 "nbformat": 4,
 "nbformat_minor": 4
}
