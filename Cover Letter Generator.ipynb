{
 "cells": [
  {
   "cell_type": "markdown",
   "metadata": {},
   "source": [
    "# Cover Letter Generator\n",
    "\n",
    "In today's competitive job market, submitting your resume often just isn't enough to make you stand out. Many companies now require a cover letter, but when you are applying to several jobs at once, writing an individual cover letter for each position can be time consuming. This project will solve this problem by creating a cover letter generator. \n",
    "\n",
    "The original goal was to use user information about the job listing and their experience extracted from a resume to create a unique cover letter for each job. Due to lack of training data, this generator can only generate generic cover letters with tokens that the user can fill in themselves.\n",
    "\n",
    "Further work on this project is needed to accomplish the original goal, specifically more training data (sample cover letters) are needed. Despite not accomplishing the original goal, this model could still be useful by giving the user a starting point when writing cover letters if more training data was obtained."
   ]
  },
  {
   "cell_type": "code",
   "execution_count": 1,
   "metadata": {},
   "outputs": [],
   "source": [
    "#!pip install tensorflow\n",
    "#!pip install transformers"
   ]
  },
  {
   "cell_type": "code",
   "execution_count": 2,
   "metadata": {
    "scrolled": true
   },
   "outputs": [],
   "source": [
    "import numpy as np\n",
    "import pandas as pd\n",
    "import tensorflow as tf\n",
    "from nltk.corpus.reader.plaintext import PlaintextCorpusReader\n",
    "from nltk import word_tokenize\n",
    "\n",
    "from transformers import BertTokenizer, TFBertModel, BertConfig\n",
    "\n",
    "from tensorflow.keras.models import Sequential\n",
    "from tensorflow.keras.layers import Dense, LSTM, Dropout\n",
    "from keras.callbacks import ModelCheckpoint\n",
    "from keras.utils import np_utils\n",
    "\n",
    "import matplotlib.pyplot as plt"
   ]
  },
  {
   "cell_type": "markdown",
   "metadata": {},
   "source": [
    "First I will define a function to checkout some of the corpus statistics."
   ]
  },
  {
   "cell_type": "code",
   "execution_count": 3,
   "metadata": {},
   "outputs": [],
   "source": [
    "def corpus_stats(corpus):\n",
    "  print('Corpus Stats:')\n",
    "  print('Number of Documents: ' + str(len(corpus.fileids())))\n",
    "  print('Number of Paragraphs ' + str(len(corpus.paras())))\n",
    "  print('Number of sentences: ' + str(len(corpus.sents())))\n",
    "  print('Number of words: ' + str(len(corpus.words())))\n",
    "  print(\"Vocabulary: \" + str(len(set(w.lower() for w in corpus.words()))))\n",
    "  print(\"Avg chars per word: \" + str(round(len(corpus.raw())/len(corpus.words()),1)))\n",
    "  print(\"Avg words per sentence: \" + str(round(len(corpus.words())/len(corpus.sents()),1)))"
   ]
  },
  {
   "cell_type": "markdown",
   "metadata": {},
   "source": [
    "Load the sample cover letter .txt files via NLTK's PlaintextCorpusReader."
   ]
  },
  {
   "cell_type": "code",
   "execution_count": 4,
   "metadata": {},
   "outputs": [],
   "source": [
    "path = './cover_letter_samples'\n",
    "doc_pattern = r'.*\\.txt'\n",
    "corpus = PlaintextCorpusReader(path, doc_pattern)"
   ]
  },
  {
   "cell_type": "code",
   "execution_count": 5,
   "metadata": {},
   "outputs": [
    {
     "name": "stdout",
     "output_type": "stream",
     "text": [
      "Corpus Stats:\n",
      "Number of Documents: 51\n",
      "Number of Paragraphs 246\n",
      "Number of sentences: 625\n",
      "Number of words: 14942\n",
      "Vocabulary: 2564\n",
      "Avg chars per word: 5.6\n",
      "Avg words per sentence: 23.9\n"
     ]
    }
   ],
   "source": [
    "corpus_stats(corpus)"
   ]
  },
  {
   "cell_type": "code",
   "execution_count": 6,
   "metadata": {},
   "outputs": [],
   "source": [
    "docs = [corpus.raw(fileid) for fileid in corpus.fileids()]"
   ]
  },
  {
   "cell_type": "markdown",
   "metadata": {},
   "source": [
    "Remove unwanted characters"
   ]
  },
  {
   "cell_type": "code",
   "execution_count": 7,
   "metadata": {},
   "outputs": [],
   "source": [
    "docs = [doc.replace('\\n', '') for doc in docs]\n",
    "docs = [doc.replace('\\r', '') for doc in docs]\n",
    "docs = [doc.replace(')', '') for doc in docs]\n",
    "docs = [doc.replace('(', '') for doc in docs]\n",
    "docs = [doc.replace(',', '') for doc in docs]"
   ]
  },
  {
   "cell_type": "code",
   "execution_count": 8,
   "metadata": {},
   "outputs": [],
   "source": [
    "docs = [doc.lower() for doc in docs]"
   ]
  },
  {
   "cell_type": "markdown",
   "metadata": {},
   "source": [
    "Create a list of individual words for each document"
   ]
  },
  {
   "cell_type": "code",
   "execution_count": 9,
   "metadata": {},
   "outputs": [],
   "source": [
    "tokenized = [word_tokenize(doc) for doc in docs]\n",
    "\n",
    "lens = [len(token) for token in tokenized]"
   ]
  },
  {
   "cell_type": "markdown",
   "metadata": {},
   "source": [
    "Make a single list of all documents"
   ]
  },
  {
   "cell_type": "code",
   "execution_count": 10,
   "metadata": {},
   "outputs": [],
   "source": [
    "tokens_list = []\n",
    "for token in tokenized:\n",
    "    tokens_list.extend(token)"
   ]
  },
  {
   "cell_type": "markdown",
   "metadata": {},
   "source": [
    "# Encoding"
   ]
  },
  {
   "cell_type": "markdown",
   "metadata": {},
   "source": [
    "Now we will encode the text to numeric vectors using BERT encoder because it is pre-trained and can understand the meaning of words."
   ]
  },
  {
   "cell_type": "code",
   "execution_count": 11,
   "metadata": {
    "scrolled": true
   },
   "outputs": [],
   "source": [
    "tz = BertTokenizer.from_pretrained(\"bert-base-cased\")"
   ]
  },
  {
   "cell_type": "code",
   "execution_count": 12,
   "metadata": {},
   "outputs": [],
   "source": [
    "encoded = tz.encode_plus(\n",
    "    text=tokens_list,  # the text to be encoded\n",
    "    add_special_tokens=True,  # Add [CLS] and [SEP]\n",
    "    max_length = len(tokens_list),  # maximum length of a document\n",
    "    truncation = True,\n",
    "    padding = 'max_length',  # Add [PAD]s\n",
    "    return_attention_mask = True,  # Generate the attention mask\n",
    "    return_tensors = 'tf',  # ask the function to return TensorFlow tensors\n",
    ")\n",
    "input_ids = encoded['input_ids']\n",
    "attn_mask = encoded['attention_mask']"
   ]
  },
  {
   "cell_type": "markdown",
   "metadata": {},
   "source": [
    "The BERT encoder outputs a list of lists, so I will consolidate them into a single list"
   ]
  },
  {
   "cell_type": "code",
   "execution_count": 13,
   "metadata": {},
   "outputs": [],
   "source": [
    "input_ids_list = []\n",
    "for input_id in input_ids:\n",
    "    input_ids_list.extend(input_id)"
   ]
  },
  {
   "cell_type": "markdown",
   "metadata": {},
   "source": [
    "The BERT encoder also outputs tensors, I need to convert them to numpy arrays."
   ]
  },
  {
   "cell_type": "code",
   "execution_count": 14,
   "metadata": {},
   "outputs": [],
   "source": [
    "input_ids_int = []\n",
    "\n",
    "for tensor in input_ids_list:\n",
    "    input_ids_int.append(tensor.numpy())"
   ]
  },
  {
   "cell_type": "markdown",
   "metadata": {},
   "source": [
    "Now that the words are numeric vectors, I will need to be able to decode the model's output. I will also need to be able to encode a test sample."
   ]
  },
  {
   "cell_type": "code",
   "execution_count": 15,
   "metadata": {},
   "outputs": [],
   "source": [
    "id_to_word = {input_ids_int[i]: tokens_list[i] for i in range(len(input_ids_int))}\n",
    "word_to_id = {tokens_list[i]: input_ids_int[i] for i in range(len(tokens_list))}"
   ]
  },
  {
   "cell_type": "markdown",
   "metadata": {},
   "source": [
    "We are modeling sequence-to-sequence, I will create sequences and the word that immediately follows that sequence to use as \"labels.\""
   ]
  },
  {
   "cell_type": "code",
   "execution_count": 16,
   "metadata": {},
   "outputs": [],
   "source": [
    "seq_len = 10"
   ]
  },
  {
   "cell_type": "code",
   "execution_count": 17,
   "metadata": {},
   "outputs": [],
   "source": [
    "X = []\n",
    "y = []\n",
    "for i in range(0, len(input_ids_list) - seq_len, 1):\n",
    "    in_seq = input_ids_list[i:i+seq_len]\n",
    "    out_seq = input_ids_list[i + seq_len]\n",
    "    X.append(in_seq)\n",
    "    y.append(out_seq)"
   ]
  },
  {
   "cell_type": "markdown",
   "metadata": {},
   "source": [
    "Reshape the input to (*time steps*, *batch size*, *something else*) "
   ]
  },
  {
   "cell_type": "code",
   "execution_count": 18,
   "metadata": {},
   "outputs": [],
   "source": [
    "X_array = np.reshape(X, (len(X), seq_len, 1))"
   ]
  },
  {
   "cell_type": "markdown",
   "metadata": {},
   "source": [
    "One-hot encode the labels"
   ]
  },
  {
   "cell_type": "code",
   "execution_count": 19,
   "metadata": {
    "scrolled": true
   },
   "outputs": [],
   "source": [
    "y_array = np_utils.to_categorical(y).T"
   ]
  },
  {
   "cell_type": "code",
   "execution_count": 20,
   "metadata": {
    "scrolled": true
   },
   "outputs": [
    {
     "data": {
      "text/plain": [
       "(28067, 13412)"
      ]
     },
     "execution_count": 20,
     "metadata": {},
     "output_type": "execute_result"
    }
   ],
   "source": [
    "y_array.shape"
   ]
  },
  {
   "cell_type": "markdown",
   "metadata": {},
   "source": [
    "# Modeling"
   ]
  },
  {
   "cell_type": "code",
   "execution_count": 21,
   "metadata": {},
   "outputs": [],
   "source": [
    "model = Sequential()\n",
    "model.add(LSTM(256, input_shape=(X_array.shape[1], X_array.shape[2]), return_sequences=True))\n",
    "model.add(Dense(256))\n",
    "model.add(LSTM(128, return_sequences = True))\n",
    "model.add(Dense(128))\n",
    "model.add(LSTM(256))\n",
    "model.add(Dense(y_array.shape[1], activation='softmax'))"
   ]
  },
  {
   "cell_type": "code",
   "execution_count": 22,
   "metadata": {},
   "outputs": [],
   "source": [
    "model.compile(loss='categorical_crossentropy', optimizer='adam')"
   ]
  },
  {
   "cell_type": "markdown",
   "metadata": {},
   "source": [
    "I'm using ModelCheckpoint to save the model weights, so I don't have to retrain the model every time I restart the notebook."
   ]
  },
  {
   "cell_type": "code",
   "execution_count": 23,
   "metadata": {},
   "outputs": [],
   "source": [
    "filepath = \"model_weights_saved.hdf5\"\n",
    "checkpoint = ModelCheckpoint(filepath, monitor='loss', verbose=1, save_best_only=True, mode='min')\n",
    "desired_callbacks = [checkpoint]"
   ]
  },
  {
   "cell_type": "code",
   "execution_count": 24,
   "metadata": {
    "collapsed": true
   },
   "outputs": [
    {
     "name": "stdout",
     "output_type": "stream",
     "text": [
      "Epoch 1/20\n",
      "42/42 [==============================] - 27s 520ms/step - loss: 12.6948 - val_loss: 0.7272\n",
      "\n",
      "Epoch 00001: loss improved from inf to 11.25634, saving model to model_weights_saved.hdf5\n",
      "Epoch 2/20\n",
      "42/42 [==============================] - 20s 476ms/step - loss: 11.7062 - val_loss: 0.7276\n",
      "\n",
      "Epoch 00002: loss did not improve from 11.25634\n",
      "Epoch 3/20\n",
      "42/42 [==============================] - 22s 521ms/step - loss: 9.3179 - val_loss: 0.7321\n",
      "\n",
      "Epoch 00003: loss did not improve from 11.25634\n",
      "Epoch 4/20\n",
      "42/42 [==============================] - 22s 518ms/step - loss: 11.9221 - val_loss: 0.7611\n",
      "\n",
      "Epoch 00004: loss did not improve from 11.25634\n",
      "Epoch 5/20\n",
      "42/42 [==============================] - 22s 517ms/step - loss: 12.6896 - val_loss: 0.7734\n",
      "\n",
      "Epoch 00005: loss did not improve from 11.25634\n",
      "Epoch 6/20\n",
      "42/42 [==============================] - 21s 495ms/step - loss: 14.0080 - val_loss: 0.7920\n",
      "\n",
      "Epoch 00006: loss did not improve from 11.25634\n",
      "Epoch 7/20\n",
      "42/42 [==============================] - 21s 497ms/step - loss: 11.7724 - val_loss: 0.8063\n",
      "\n",
      "Epoch 00007: loss did not improve from 11.25634\n",
      "Epoch 8/20\n",
      "42/42 [==============================] - 21s 494ms/step - loss: 13.1537 - val_loss: 0.8291\n",
      "\n",
      "Epoch 00008: loss did not improve from 11.25634\n",
      "Epoch 9/20\n",
      "42/42 [==============================] - 22s 522ms/step - loss: 9.1622 - val_loss: 0.8331\n",
      "\n",
      "Epoch 00009: loss did not improve from 11.25634\n",
      "Epoch 10/20\n",
      "42/42 [==============================] - 21s 501ms/step - loss: 13.2400 - val_loss: 0.8627\n",
      "\n",
      "Epoch 00010: loss did not improve from 11.25634\n",
      "Epoch 11/20\n",
      "42/42 [==============================] - 22s 519ms/step - loss: 9.5836 - val_loss: 0.8767\n",
      "\n",
      "Epoch 00011: loss did not improve from 11.25634\n",
      "Epoch 12/20\n",
      "42/42 [==============================] - 22s 514ms/step - loss: 9.3762 - val_loss: 0.9008\n",
      "\n",
      "Epoch 00012: loss did not improve from 11.25634\n",
      "Epoch 13/20\n",
      "42/42 [==============================] - 21s 506ms/step - loss: 10.9936 - val_loss: 0.9070\n",
      "\n",
      "Epoch 00013: loss did not improve from 11.25634\n",
      "Epoch 14/20\n",
      "42/42 [==============================] - 21s 494ms/step - loss: 16.2520 - val_loss: 0.9046\n",
      "\n",
      "Epoch 00014: loss did not improve from 11.25634\n",
      "Epoch 15/20\n",
      "42/42 [==============================] - 21s 501ms/step - loss: 13.8688 - val_loss: 0.9281\n",
      "\n",
      "Epoch 00015: loss did not improve from 11.25634\n",
      "Epoch 16/20\n",
      "42/42 [==============================] - 21s 498ms/step - loss: 11.3523 - val_loss: 0.9457\n",
      "\n",
      "Epoch 00016: loss did not improve from 11.25634\n",
      "Epoch 17/20\n",
      "42/42 [==============================] - 21s 501ms/step - loss: 11.7694 - val_loss: 0.9657\n",
      "\n",
      "Epoch 00017: loss did not improve from 11.25634\n",
      "Epoch 18/20\n",
      "42/42 [==============================] - 21s 507ms/step - loss: 10.7140 - val_loss: 0.9824\n",
      "\n",
      "Epoch 00018: loss did not improve from 11.25634\n",
      "Epoch 19/20\n",
      "42/42 [==============================] - 23s 548ms/step - loss: 11.7169 - val_loss: 1.0034\n",
      "\n",
      "Epoch 00019: loss did not improve from 11.25634\n",
      "Epoch 20/20\n",
      "42/42 [==============================] - 21s 508ms/step - loss: 13.1485 - val_loss: 0.9509\n",
      "\n",
      "Epoch 00020: loss did not improve from 11.25634\n"
     ]
    }
   ],
   "source": [
    "history = model.fit(X_array, y_array, validation_split = 0.2, epochs=20, batch_size=256, callbacks=desired_callbacks)"
   ]
  },
  {
   "cell_type": "code",
   "execution_count": 25,
   "metadata": {},
   "outputs": [
    {
     "data": {
      "image/png": "[encoded data removed]",
      "text/plain": [
       "<Figure size 432x288 with 1 Axes>"
      ]
     },
     "metadata": {
      "needs_background": "light"
     },
     "output_type": "display_data"
    }
   ],
   "source": [
    "plt.plot(history.history['loss'])\n",
    "plt.plot(history.history['val_loss'])\n",
    "plt.title('Model Loss')\n",
    "plt.ylabel('Loss')\n",
    "plt.xlabel('Epoch')\n",
    "plt.legend(['Train', 'Test'], loc='upper right')\n",
    "plt.show()"
   ]
  },
  {
   "cell_type": "markdown",
   "metadata": {},
   "source": [
    "This model is underfit, evidenced by the high test loss that doesn't converge. More training data might solve this problem. Because of the underfitting, the model will likely not output good results."
   ]
  },
  {
   "cell_type": "code",
   "execution_count": 26,
   "metadata": {},
   "outputs": [],
   "source": [
    "filename = \"model_weights_saved.hdf5\"\n",
    "model.load_weights(filename)\n",
    "model.compile(loss='categorical_crossentropy', optimizer='adam')"
   ]
  },
  {
   "cell_type": "markdown",
   "metadata": {},
   "source": [
    "Now to test the model. I input the beginning of a cover letter. The loop deletes the first token in the sample, predicts on a sequence of the specified length, append the predicted word to the end of the sample. The first word is dropped and the model predicts on the next sequence. "
   ]
  },
  {
   "cell_type": "code",
   "execution_count": 27,
   "metadata": {},
   "outputs": [
    {
     "name": "stdout",
     "output_type": "stream",
     "text": [
      "I am excited to apply for your company because i the the the the the the the the the the the the the the the the the the the the the the the the the\n"
     ]
    }
   ],
   "source": [
    "sample = \"I am excited to apply for your company because I\"\n",
    "sample = sample.lower()\n",
    "sample_split = word_tokenize(sample)\n",
    "sample_split.insert(0, 0)\n",
    "\n",
    "for i in range(25):\n",
    "    sample_split = sample_split[1:]\n",
    "\n",
    "    sample_ids = [word_to_id[word] for word in sample_split]\n",
    "\n",
    "    sample_array = tf.convert_to_tensor(sample_ids)\n",
    "    sample_array = [list(sample_array)]\n",
    "    sample_array = np.reshape(sample_array, (1, seq_len, 1))\n",
    "    prediction = model.predict(sample_array)\n",
    "\n",
    "\n",
    "    pred_index = prediction[0].argmax()\n",
    "    new_word = tokens_list[pred_index]\n",
    "    sample_split.append(new_word)\n",
    "    sample = sample + ' ' + new_word\n",
    "\n",
    "sample = sample.capitalize()\n",
    "print(sample)"
   ]
  },
  {
   "cell_type": "markdown",
   "metadata": {},
   "source": [
    "# Model 2"
   ]
  },
  {
   "cell_type": "code",
   "execution_count": 28,
   "metadata": {},
   "outputs": [],
   "source": [
    "model_2 = Sequential()\n",
    "model_2.add(LSTM(256, input_shape=(X_array.shape[1], X_array.shape[2]), return_sequences=True))\n",
    "model_2.add(Dense(256, activation = 'relu'))\n",
    "model_2.add(LSTM(128, return_sequences = True))\n",
    "model_2.add(Dense(128, activation = 'relu'))\n",
    "model_2.add(LSTM(256, return_sequences = True))\n",
    "model_2.add(Dense(y_array.shape[1], activation='softmax'))"
   ]
  },
  {
   "cell_type": "code",
   "execution_count": 29,
   "metadata": {
    "collapsed": true
   },
   "outputs": [
    {
     "name": "stdout",
     "output_type": "stream",
     "text": [
      "Epoch 1/20\n",
      "42/42 [==============================] - 27s 519ms/step - loss: 13.0437 - val_loss: 0.7456\n",
      "\n",
      "Epoch 00001: loss did not improve from 11.25634\n",
      "Epoch 2/20\n",
      "42/42 [==============================] - 19s 453ms/step - loss: 10.3689 - val_loss: 0.7231\n",
      "\n",
      "Epoch 00002: loss did not improve from 11.25634\n",
      "Epoch 3/20\n",
      "42/42 [==============================] - 19s 451ms/step - loss: 9.4916 - val_loss: 0.7606\n",
      "\n",
      "Epoch 00003: loss did not improve from 11.25634\n",
      "Epoch 4/20\n",
      "42/42 [==============================] - 19s 454ms/step - loss: 10.1956 - val_loss: 0.7826\n",
      "\n",
      "Epoch 00004: loss did not improve from 11.25634\n",
      "Epoch 5/20\n",
      "42/42 [==============================] - 19s 465ms/step - loss: 12.3464 - val_loss: 0.8046\n",
      "\n",
      "Epoch 00005: loss did not improve from 11.25634\n",
      "Epoch 6/20\n",
      "42/42 [==============================] - 19s 452ms/step - loss: 11.0861 - val_loss: 0.8408\n",
      "\n",
      "Epoch 00006: loss did not improve from 11.25634\n",
      "Epoch 7/20\n",
      "42/42 [==============================] - 19s 454ms/step - loss: 11.9074 - val_loss: 0.8321\n",
      "\n",
      "Epoch 00007: loss did not improve from 11.25634\n",
      "Epoch 8/20\n",
      "42/42 [==============================] - 19s 454ms/step - loss: 10.6146 - val_loss: 0.8736\n",
      "\n",
      "Epoch 00008: loss did not improve from 11.25634\n",
      "Epoch 9/20\n",
      "42/42 [==============================] - 19s 453ms/step - loss: 10.7341 - val_loss: 0.8854\n",
      "\n",
      "Epoch 00009: loss did not improve from 11.25634\n",
      "Epoch 10/20\n",
      "42/42 [==============================] - 19s 462ms/step - loss: 8.3658 - val_loss: 0.8977\n",
      "\n",
      "Epoch 00010: loss did not improve from 11.25634\n",
      "Epoch 11/20\n",
      "42/42 [==============================] - 22s 535ms/step - loss: 12.7462 - val_loss: 0.8394\n",
      "\n",
      "Epoch 00011: loss did not improve from 11.25634\n",
      "Epoch 12/20\n",
      "42/42 [==============================] - 21s 511ms/step - loss: 13.2133 - val_loss: 0.7805\n",
      "\n",
      "Epoch 00012: loss did not improve from 11.25634\n",
      "Epoch 13/20\n",
      "42/42 [==============================] - 23s 537ms/step - loss: 11.2318 - val_loss: 0.9900\n",
      "\n",
      "Epoch 00013: loss did not improve from 11.25634\n",
      "Epoch 14/20\n",
      "42/42 [==============================] - 22s 519ms/step - loss: 13.7515 - val_loss: 0.9286\n",
      "\n",
      "Epoch 00014: loss did not improve from 11.25634\n",
      "Epoch 15/20\n",
      "42/42 [==============================] - 23s 555ms/step - loss: 16.4210 - val_loss: 0.9935\n",
      "\n",
      "Epoch 00015: loss did not improve from 11.25634\n",
      "Epoch 16/20\n",
      "42/42 [==============================] - 24s 564ms/step - loss: 12.2412 - val_loss: 0.8064\n",
      "\n",
      "Epoch 00016: loss improved from 11.25634 to 11.22443, saving model to model_weights_saved.hdf5\n",
      "Epoch 17/20\n",
      "42/42 [==============================] - 24s 583ms/step - loss: 10.3011 - val_loss: 0.9798\n",
      "\n",
      "Epoch 00017: loss improved from 11.22443 to 11.07594, saving model to model_weights_saved.hdf5\n",
      "Epoch 18/20\n",
      "42/42 [==============================] - 21s 507ms/step - loss: 8.7899 - val_loss: 0.9434\n",
      "\n",
      "Epoch 00018: loss improved from 11.07594 to 10.76900, saving model to model_weights_saved.hdf5\n",
      "Epoch 19/20\n",
      "42/42 [==============================] - 21s 507ms/step - loss: 8.9295 - val_loss: 1.0182\n",
      "\n",
      "Epoch 00019: loss improved from 10.76900 to 10.40538, saving model to model_weights_saved.hdf5\n",
      "Epoch 20/20\n",
      "42/42 [==============================] - 21s 503ms/step - loss: 11.6276 - val_loss: 1.0259\n",
      "\n",
      "Epoch 00020: loss improved from 10.40538 to 10.13246, saving model to model_weights_saved.hdf5\n"
     ]
    }
   ],
   "source": [
    "history_2 = model.fit(X_array, y_array, validation_split = 0.2, epochs=20, batch_size=256, callbacks=desired_callbacks)"
   ]
  },
  {
   "cell_type": "code",
   "execution_count": 30,
   "metadata": {},
   "outputs": [
    {
     "data": {
      "image/png": "[encoded data removed]",
      "text/plain": [
       "<Figure size 432x288 with 1 Axes>"
      ]
     },
     "metadata": {
      "needs_background": "light"
     },
     "output_type": "display_data"
    }
   ],
   "source": [
    "plt.plot(history_2.history['loss'])\n",
    "plt.plot(history_2.history['val_loss'])\n",
    "plt.title('Model Loss - relu activation')\n",
    "plt.ylabel('Loss')\n",
    "plt.xlabel('Epoch')\n",
    "plt.legend(['Train', 'Test'], loc='upper right')\n",
    "plt.show()"
   ]
  },
  {
   "cell_type": "code",
   "execution_count": 31,
   "metadata": {},
   "outputs": [
    {
     "name": "stdout",
     "output_type": "stream",
     "text": [
      "I am excited to apply for your company because i my i research learning disputes small building interpersonal in career the including including career remarks remarks remarks remarks remarks remarks remarks remarks remarks remarks remarks\n"
     ]
    }
   ],
   "source": [
    "sample = \"I am excited to apply for your company because I\"\n",
    "sample = sample.lower()\n",
    "sample_split = word_tokenize(sample)\n",
    "sample_split.insert(0, 0)\n",
    "\n",
    "for i in range(25):\n",
    "    sample_split = sample_split[1:]\n",
    "\n",
    "    sample_ids = [word_to_id[word] for word in sample_split]\n",
    "\n",
    "    sample_array = tf.convert_to_tensor(sample_ids)\n",
    "    sample_array = [list(sample_array)]\n",
    "    sample_array = np.reshape(sample_array, (1, seq_len, 1))\n",
    "    prediction = model.predict(sample_array)\n",
    "\n",
    "\n",
    "    pred_index = prediction[0].argmax()\n",
    "    new_word = tokens_list[pred_index]\n",
    "    sample_split.append(new_word)\n",
    "    sample = sample + ' ' + new_word\n",
    "\n",
    "sample = sample.capitalize()\n",
    "print(sample)"
   ]
  },
  {
   "cell_type": "markdown",
   "metadata": {},
   "source": [
    "The output of both of these models is English text, but it does not make sense. The first model simply predicts the word that appears immediately before it. The loss of the second model doesn't seem improve until about the 12th epoch. Since both models have an underfitting problem, the results could probably be improved by more training data. Neural nets require large training sets, and my corpus only contains 51 cover letter samples."
   ]
  }
 ],
 "metadata": {
  "kernelspec": {
   "display_name": "Python 3",
   "language": "python",
   "name": "python3"
  },
  "language_info": {
   "codemirror_mode": {
    "name": "ipython",
    "version": 3
   },
   "file_extension": ".py",
   "mimetype": "text/x-python",
   "name": "python",
   "nbconvert_exporter": "python",
   "pygments_lexer": "ipython3",
   "version": "3.7.6"
  }
 },
 "nbformat": 4,
 "nbformat_minor": 4
}
