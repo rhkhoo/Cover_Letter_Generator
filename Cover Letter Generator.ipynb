{
 "cells": [
  {
   "cell_type": "markdown",
   "metadata": {},
   "source": [
    "# Cover Letter Generator\n",
    "\n",
    "In today's competitive job market, submitting your resume often just isn't enough to make you stand out. Many companies now require a cover letter, but when you are applying to several jobs at once, writing an individual cover letter for each position can be time consuming. This project will solve this problem by creating a cover letter generator. \n",
    "\n",
    "The original goal was to use user information about the job listing and their experience extracted from a resume to create a unique cover letter for each job. Due to lack of training data, this generator can only generate generic cover letters with tokens that the user can fill in themselves.\n",
    "\n",
    "Further work on this project is needed to accomplish the original goal, specifically more training data (sample cover letters) are needed. Despite not accomplishing the original goal, this model could still be useful by giving the user a starting point when writing cover letters if more training data was obtained."
   ]
  },
  {
   "cell_type": "code",
   "execution_count": 1,
   "metadata": {},
   "outputs": [],
   "source": [
    "#!pip install tensorflow\n",
    "#!pip install transformers"
   ]
  },
  {
   "cell_type": "code",
   "execution_count": 2,
   "metadata": {
    "scrolled": true
   },
   "outputs": [],
   "source": [
    "import numpy as np\n",
    "import pandas as pd\n",
    "import tensorflow as tf\n",
    "from nltk.corpus.reader.plaintext import PlaintextCorpusReader\n",
    "from nltk import word_tokenize\n",
    "\n",
    "from transformers import BertTokenizer, TFBertModel, BertConfig\n",
    "\n",
    "from tensorflow.keras.models import Sequential\n",
    "from tensorflow.keras.layers import Dense, LSTM, Dropout\n",
    "from keras.callbacks import ModelCheckpoint\n",
    "from keras.utils import np_utils\n",
    "\n",
    "import matplotlib.pyplot as plt"
   ]
  },
  {
   "cell_type": "markdown",
   "metadata": {},
   "source": [
    "First I will define a function to checkout some of the corpus statistics."
   ]
  },
  {
   "cell_type": "code",
   "execution_count": 3,
   "metadata": {},
   "outputs": [],
   "source": [
    "def corpus_stats(corpus):\n",
    "  print('Corpus Stats:')\n",
    "  print('Number of Documents: ' + str(len(corpus.fileids())))\n",
    "  print('Number of Paragraphs ' + str(len(corpus.paras())))\n",
    "  print('Number of sentences: ' + str(len(corpus.sents())))\n",
    "  print('Number of words: ' + str(len(corpus.words())))\n",
    "  print(\"Vocabulary: \" + str(len(set(w.lower() for w in corpus.words()))))\n",
    "  print(\"Avg chars per word: \" + str(round(len(corpus.raw())/len(corpus.words()),1)))\n",
    "  print(\"Avg words per sentence: \" + str(round(len(corpus.words())/len(corpus.sents()),1)))"
   ]
  },
  {
   "cell_type": "markdown",
   "metadata": {},
   "source": [
    "Load the sample cover letter .txt files via NLTK's PlaintextCorpusReader."
   ]
  },
  {
   "cell_type": "code",
   "execution_count": 4,
   "metadata": {},
   "outputs": [],
   "source": [
    "path = './cover_letter_samples'\n",
    "doc_pattern = r'.*\\.txt'\n",
    "corpus = PlaintextCorpusReader(path, doc_pattern)"
   ]
  },
  {
   "cell_type": "code",
   "execution_count": 5,
   "metadata": {},
   "outputs": [
    {
     "name": "stdout",
     "output_type": "stream",
     "text": [
      "Corpus Stats:\n",
      "Number of Documents: 51\n",
      "Number of Paragraphs 246\n",
      "Number of sentences: 625\n",
      "Number of words: 14942\n",
      "Vocabulary: 2564\n",
      "Avg chars per word: 5.6\n",
      "Avg words per sentence: 23.9\n"
     ]
    }
   ],
   "source": [
    "corpus_stats(corpus)"
   ]
  },
  {
   "cell_type": "code",
   "execution_count": 6,
   "metadata": {},
   "outputs": [],
   "source": [
    "docs = [corpus.raw(fileid) for fileid in corpus.fileids()]"
   ]
  },
  {
   "cell_type": "markdown",
   "metadata": {},
   "source": [
    "Remove unwanted characters"
   ]
  },
  {
   "cell_type": "code",
   "execution_count": 7,
   "metadata": {},
   "outputs": [],
   "source": [
    "docs = [doc.replace('\\n', '') for doc in docs]\n",
    "docs = [doc.replace('\\r', '') for doc in docs]\n",
    "docs = [doc.replace(')', '') for doc in docs]\n",
    "docs = [doc.replace('(', '') for doc in docs]\n",
    "docs = [doc.replace(',', '') for doc in docs]"
   ]
  },
  {
   "cell_type": "code",
   "execution_count": 8,
   "metadata": {},
   "outputs": [],
   "source": [
    "docs = [doc.lower() for doc in docs]"
   ]
  },
  {
   "cell_type": "markdown",
   "metadata": {},
   "source": [
    "Create a list of individual words for each document"
   ]
  },
  {
   "cell_type": "code",
   "execution_count": 9,
   "metadata": {},
   "outputs": [],
   "source": [
    "tokenized = [word_tokenize(doc) for doc in docs]\n",
    "\n",
    "lens = [len(token) for token in tokenized]"
   ]
  },
  {
   "cell_type": "markdown",
   "metadata": {},
   "source": [
    "Make a single list of all documents"
   ]
  },
  {
   "cell_type": "code",
   "execution_count": 10,
   "metadata": {},
   "outputs": [],
   "source": [
    "tokens_list = []\n",
    "for token in tokenized:\n",
    "    tokens_list.extend(token)"
   ]
  },
  {
   "cell_type": "markdown",
   "metadata": {},
   "source": [
    "# Encoding"
   ]
  },
  {
   "cell_type": "markdown",
   "metadata": {},
   "source": [
    "Now we will encode the text to numeric vectors using BERT encoder because it is pre-trained and can understand the meaning of words."
   ]
  },
  {
   "cell_type": "code",
   "execution_count": 11,
   "metadata": {
    "scrolled": true
   },
   "outputs": [],
   "source": [
    "tz = BertTokenizer.from_pretrained(\"bert-base-cased\")"
   ]
  },
  {
   "cell_type": "code",
   "execution_count": 12,
   "metadata": {},
   "outputs": [],
   "source": [
    "encoded = tz.encode_plus(\n",
    "    text=tokens_list,  # the text to be encoded\n",
    "    add_special_tokens=True,  # Add [CLS] and [SEP]\n",
    "    max_length = len(tokens_list),  # maximum length of a document\n",
    "    truncation = True,\n",
    "    padding = 'max_length',  # Add [PAD]s\n",
    "    return_attention_mask = True,  # Generate the attention mask\n",
    "    return_tensors = 'tf',  # ask the function to return TensorFlow tensors\n",
    ")\n",
    "input_ids = encoded['input_ids']\n",
    "attn_mask = encoded['attention_mask']"
   ]
  },
  {
   "cell_type": "markdown",
   "metadata": {},
   "source": [
    "The BERT encoder outputs a list of lists, so I will consolidate them into a single list"
   ]
  },
  {
   "cell_type": "code",
   "execution_count": 13,
   "metadata": {},
   "outputs": [],
   "source": [
    "input_ids_list = []\n",
    "for input_id in input_ids:\n",
    "    input_ids_list.extend(input_id)"
   ]
  },
  {
   "cell_type": "markdown",
   "metadata": {},
   "source": [
    "The BERT encoder also outputs tensors, I need to convert them to numpy arrays."
   ]
  },
  {
   "cell_type": "code",
   "execution_count": 14,
   "metadata": {},
   "outputs": [],
   "source": [
    "input_ids_int = []\n",
    "\n",
    "for tensor in input_ids_list:\n",
    "    input_ids_int.append(tensor.numpy())"
   ]
  },
  {
   "cell_type": "markdown",
   "metadata": {},
   "source": [
    "Now that the words are numeric vectors, I will need to be able to decode the model's output. I will also need to be able to encode a test sample."
   ]
  },
  {
   "cell_type": "code",
   "execution_count": 15,
   "metadata": {},
   "outputs": [],
   "source": [
    "id_to_word = {input_ids_int[i]: tokens_list[i] for i in range(len(input_ids_int))}\n",
    "word_to_id = {tokens_list[i]: input_ids_int[i] for i in range(len(tokens_list))}"
   ]
  },
  {
   "cell_type": "markdown",
   "metadata": {},
   "source": [
    "We are modeling sequence-to-sequence, I will create sequences and the word that immediately follows that sequence to use as \"labels.\""
   ]
  },
  {
   "cell_type": "code",
   "execution_count": 80,
   "metadata": {},
   "outputs": [],
   "source": [
    "seq_len = 5"
   ]
  },
  {
   "cell_type": "code",
   "execution_count": 81,
   "metadata": {},
   "outputs": [],
   "source": [
    "X = []\n",
    "y = []\n",
    "for i in range(0, len(input_ids_list) - seq_len, 2):\n",
    "    in_seq = input_ids_list[i:i+seq_len]\n",
    "    out_seq = input_ids_list[i + seq_len]\n",
    "    X.append(in_seq)\n",
    "    y.append(out_seq)"
   ]
  },
  {
   "cell_type": "markdown",
   "metadata": {},
   "source": [
    "Reshape the input to (*time steps*, *batch size*, *something else*) "
   ]
  },
  {
   "cell_type": "code",
   "execution_count": 82,
   "metadata": {},
   "outputs": [],
   "source": [
    "X_array = np.reshape(X, (len(X), seq_len, 1))"
   ]
  },
  {
   "cell_type": "markdown",
   "metadata": {},
   "source": [
    "One-hot encode the labels"
   ]
  },
  {
   "cell_type": "code",
   "execution_count": 83,
   "metadata": {
    "scrolled": true
   },
   "outputs": [],
   "source": [
    "y_array = np_utils.to_categorical(y).T"
   ]
  },
  {
   "cell_type": "code",
   "execution_count": 84,
   "metadata": {
    "scrolled": true
   },
   "outputs": [
    {
     "data": {
      "text/plain": [
       "(28067, 6709)"
      ]
     },
     "execution_count": 84,
     "metadata": {},
     "output_type": "execute_result"
    }
   ],
   "source": [
    "y_array.shape"
   ]
  },
  {
   "cell_type": "markdown",
   "metadata": {},
   "source": [
    "# Modeling"
   ]
  },
  {
   "cell_type": "code",
   "execution_count": 108,
   "metadata": {},
   "outputs": [],
   "source": [
    "model = Sequential()\n",
    "model.add(LSTM(256, input_shape=(X_array.shape[1], X_array.shape[2]), return_sequences=False))\n",
    "model.add(Dense(y_array.shape[1], activation='softmax'))"
   ]
  },
  {
   "cell_type": "code",
   "execution_count": 109,
   "metadata": {},
   "outputs": [],
   "source": [
    "model.compile(loss='categorical_crossentropy', optimizer='adam')"
   ]
  },
  {
   "cell_type": "markdown",
   "metadata": {},
   "source": [
    "I'm using ModelCheckpoint to save the model weights, so I don't have to retrain the model every time I restart the notebook."
   ]
  },
  {
   "cell_type": "code",
   "execution_count": 110,
   "metadata": {
    "scrolled": true
   },
   "outputs": [
    {
     "name": "stdout",
     "output_type": "stream",
     "text": [
      "Epoch 1/20\n",
      "21/21 [==============================] - 6s 190ms/step - loss: 10.3813 - val_loss: 1.1860\n",
      "Epoch 2/20\n",
      "21/21 [==============================] - 3s 130ms/step - loss: 7.2297 - val_loss: 1.2957\n",
      "Epoch 3/20\n",
      "21/21 [==============================] - 3s 135ms/step - loss: 8.6980 - val_loss: 1.3967\n",
      "Epoch 4/20\n",
      "21/21 [==============================] - 3s 134ms/step - loss: 10.0069 - val_loss: 1.4765\n",
      "Epoch 5/20\n",
      "21/21 [==============================] - 3s 158ms/step - loss: 9.0812 - val_loss: 1.5264\n",
      "Epoch 6/20\n",
      "21/21 [==============================] - 3s 133ms/step - loss: 9.2527 - val_loss: 1.5746\n",
      "Epoch 7/20\n",
      "21/21 [==============================] - 3s 135ms/step - loss: 9.1463 - val_loss: 1.5943\n",
      "Epoch 8/20\n",
      "21/21 [==============================] - 3s 129ms/step - loss: 9.6297 - val_loss: 1.6490\n",
      "Epoch 9/20\n",
      "21/21 [==============================] - 3s 124ms/step - loss: 6.8313 - val_loss: 1.6924\n",
      "Epoch 10/20\n",
      "21/21 [==============================] - 3s 143ms/step - loss: 6.9024 - val_loss: 1.7206\n",
      "Epoch 11/20\n",
      "21/21 [==============================] - 3s 142ms/step - loss: 10.1378 - val_loss: 1.7614\n",
      "Epoch 12/20\n",
      "21/21 [==============================] - 3s 133ms/step - loss: 12.0803 - val_loss: 1.7938\n",
      "Epoch 13/20\n",
      "21/21 [==============================] - 3s 126ms/step - loss: 7.0318 - val_loss: 1.7749\n",
      "Epoch 14/20\n",
      "21/21 [==============================] - 3s 128ms/step - loss: 10.0886 - val_loss: 1.8113\n",
      "Epoch 15/20\n",
      "21/21 [==============================] - 3s 132ms/step - loss: 8.0071 - val_loss: 1.8393\n",
      "Epoch 16/20\n",
      "21/21 [==============================] - 3s 141ms/step - loss: 7.5703 - val_loss: 1.8711\n",
      "Epoch 17/20\n",
      "21/21 [==============================] - 3s 129ms/step - loss: 7.0289 - val_loss: 1.8736\n",
      "Epoch 18/20\n",
      "21/21 [==============================] - 3s 131ms/step - loss: 7.9448 - val_loss: 1.9195\n",
      "Epoch 19/20\n",
      "21/21 [==============================] - 3s 161ms/step - loss: 10.3412 - val_loss: 1.9311\n",
      "Epoch 20/20\n",
      "21/21 [==============================] - 3s 160ms/step - loss: 7.8992 - val_loss: 1.9402\n"
     ]
    }
   ],
   "source": [
    "history = model.fit(X_array, y_array, validation_split = 0.2, epochs=20, batch_size=256)"
   ]
  },
  {
   "cell_type": "code",
   "execution_count": 111,
   "metadata": {
    "scrolled": true
   },
   "outputs": [
    {
     "data": {
      "image/png": "[encoded data removed]",
      "text/plain": [
       "<Figure size 432x288 with 1 Axes>"
      ]
     },
     "metadata": {
      "needs_background": "light"
     },
     "output_type": "display_data"
    }
   ],
   "source": [
    "plt.plot(history.history['loss'])\n",
    "plt.plot(history.history['val_loss'])\n",
    "plt.title('Model Loss')\n",
    "plt.ylabel('Loss')\n",
    "plt.xlabel('Epoch')\n",
    "plt.legend(['Train', 'Test'], loc='upper right')\n",
    "plt.show()"
   ]
  },
  {
   "cell_type": "markdown",
   "metadata": {},
   "source": [
    "This model is underfit, evidenced by the high test loss that doesn't converge. More training data might solve this problem. Because of the underfitting, the model will likely not output good results."
   ]
  },
  {
   "cell_type": "markdown",
   "metadata": {},
   "source": [
    "Now to test the model. I input the beginning of a cover letter. The loop deletes the first token in the sample, predicts on a sequence of the specified length, append the predicted word to the end of the sample. The first word is dropped and the model predicts on the next sequence. "
   ]
  },
  {
   "cell_type": "code",
   "execution_count": 112,
   "metadata": {},
   "outputs": [
    {
     "name": "stdout",
     "output_type": "stream",
     "text": [
      "Apply for the position of situation dealing i at forward do i . my experienced . my experienced . my experienced . my experienced . my experienced . my experienced\n"
     ]
    }
   ],
   "source": [
    "sample = \"Apply for the position of\"\n",
    "sample = sample.lower()\n",
    "sample_split = word_tokenize(sample)\n",
    "sample_split.insert(0, 0)\n",
    "\n",
    "for i in range(25):\n",
    "    sample_split = sample_split[1:]\n",
    "    \n",
    "    sample_ids = [word_to_id[word] for word in sample_split]\n",
    "\n",
    "    sample_array = tf.convert_to_tensor(sample_ids)\n",
    "    sample_array = [list(sample_array)]\n",
    "    sample_array = np.reshape(sample_array, (1, seq_len, 1))\n",
    "    prediction = model.predict(sample_array)\n",
    "\n",
    "\n",
    "    pred_index = prediction[0].argmax()\n",
    "    new_word = tokens_list[pred_index]\n",
    "    sample_split.append(new_word)\n",
    "    sample = sample + ' ' + new_word\n",
    "\n",
    "sample = sample.capitalize()\n",
    "print(sample)"
   ]
  },
  {
   "cell_type": "markdown",
   "metadata": {},
   "source": [
    "# Model 2"
   ]
  },
  {
   "cell_type": "markdown",
   "metadata": {},
   "source": [
    "This model is the same as model 1 except the optimzer is sigmoid gradient descent."
   ]
  },
  {
   "cell_type": "code",
   "execution_count": 113,
   "metadata": {},
   "outputs": [],
   "source": [
    "model_2 = Sequential()\n",
    "model_2.add(LSTM(256, input_shape=(X_array.shape[1], X_array.shape[2])))\n",
    "model_2.add(Dense(y_array.shape[1], activation='softmax'))"
   ]
  },
  {
   "cell_type": "code",
   "execution_count": 114,
   "metadata": {},
   "outputs": [],
   "source": [
    "model_2.compile(loss='categorical_crossentropy', optimizer='SGD')"
   ]
  },
  {
   "cell_type": "code",
   "execution_count": 115,
   "metadata": {
    "scrolled": true
   },
   "outputs": [
    {
     "name": "stdout",
     "output_type": "stream",
     "text": [
      "Epoch 1/20\n",
      "21/21 [==============================] - 6s 176ms/step - loss: 7.5475 - val_loss: 1.1118\n",
      "Epoch 2/20\n",
      "21/21 [==============================] - 3s 128ms/step - loss: 9.4359 - val_loss: 1.1120\n",
      "Epoch 3/20\n",
      "21/21 [==============================] - 3s 124ms/step - loss: 8.1195 - val_loss: 1.1121\n",
      "Epoch 4/20\n",
      "21/21 [==============================] - 3s 127ms/step - loss: 7.7869 - val_loss: 1.1122\n",
      "Epoch 5/20\n",
      "21/21 [==============================] - 3s 127ms/step - loss: 9.6364 - val_loss: 1.1125\n",
      "Epoch 6/20\n",
      "21/21 [==============================] - 3s 125ms/step - loss: 8.9119 - val_loss: 1.1127\n",
      "Epoch 7/20\n",
      "21/21 [==============================] - 3s 127ms/step - loss: 10.2400 - val_loss: 1.1128\n",
      "Epoch 8/20\n",
      "21/21 [==============================] - 3s 126ms/step - loss: 10.6643 - val_loss: 1.1133\n",
      "Epoch 9/20\n",
      "21/21 [==============================] - 3s 126ms/step - loss: 9.1995 - val_loss: 1.1134\n",
      "Epoch 10/20\n",
      "21/21 [==============================] - 3s 125ms/step - loss: 10.2328 - val_loss: 1.1132\n",
      "Epoch 11/20\n",
      "21/21 [==============================] - 3s 157ms/step - loss: 11.7656 - val_loss: 1.1134\n",
      "Epoch 12/20\n",
      "21/21 [==============================] - 3s 143ms/step - loss: 8.6035 - val_loss: 1.1135\n",
      "Epoch 13/20\n",
      "21/21 [==============================] - 3s 135ms/step - loss: 9.5062 - val_loss: 1.1137\n",
      "Epoch 14/20\n",
      "21/21 [==============================] - 3s 146ms/step - loss: 7.8381 - val_loss: 1.1138\n",
      "Epoch 15/20\n",
      "21/21 [==============================] - 3s 142ms/step - loss: 7.8322 - val_loss: 1.1139\n",
      "Epoch 16/20\n",
      "21/21 [==============================] - 3s 138ms/step - loss: 9.1709 - val_loss: 1.1138\n",
      "Epoch 17/20\n",
      "21/21 [==============================] - 3s 137ms/step - loss: 9.7272 - val_loss: 1.1141\n",
      "Epoch 18/20\n",
      "21/21 [==============================] - 3s 147ms/step - loss: 10.6691 - val_loss: 1.1143\n",
      "Epoch 19/20\n",
      "21/21 [==============================] - 3s 128ms/step - loss: 9.4642 - val_loss: 1.1144\n",
      "Epoch 20/20\n",
      "21/21 [==============================] - 3s 127ms/step - loss: 7.6163 - val_loss: 1.1146\n"
     ]
    }
   ],
   "source": [
    "history_2 = model_2.fit(X_array, y_array, validation_split = 0.2, epochs=20, batch_size=256)"
   ]
  },
  {
   "cell_type": "code",
   "execution_count": 116,
   "metadata": {},
   "outputs": [
    {
     "data": {
      "image/png": "[encoded data removed]",
      "text/plain": [
       "<Figure size 432x288 with 1 Axes>"
      ]
     },
     "metadata": {
      "needs_background": "light"
     },
     "output_type": "display_data"
    }
   ],
   "source": [
    "plt.plot(history_2.history['loss'])\n",
    "plt.plot(history_2.history['val_loss'])\n",
    "plt.title('Model Loss - relu activation')\n",
    "plt.ylabel('Loss')\n",
    "plt.xlabel('Epoch')\n",
    "plt.legend(['Train', 'Test'], loc='upper left')\n",
    "plt.show()"
   ]
  },
  {
   "cell_type": "code",
   "execution_count": 117,
   "metadata": {
    "scrolled": true
   },
   "outputs": [
    {
     "name": "stdout",
     "output_type": "stream",
     "text": [
      "I am applying for the courses courses . years courses courses courses courses . years courses courses courses courses . years courses courses courses courses . years courses courses courses\n"
     ]
    }
   ],
   "source": [
    "sample = \"I am applying for the\"\n",
    "sample = sample.lower()\n",
    "sample_split = word_tokenize(sample)\n",
    "sample_split.insert(0, 0)\n",
    "\n",
    "for i in range(25):\n",
    "    sample_split = sample_split[1:]\n",
    "\n",
    "    sample_ids = [word_to_id[word] for word in sample_split]\n",
    "\n",
    "    sample_array = tf.convert_to_tensor(sample_ids)\n",
    "    sample_array = [list(sample_array)]\n",
    "    sample_array = np.reshape(sample_array, (1, seq_len, 1))\n",
    "    prediction = model_2.predict(sample_array)\n",
    "\n",
    "\n",
    "    pred_index = prediction[0].argmax()\n",
    "    new_word = tokens_list[pred_index]\n",
    "    sample_split.append(new_word)\n",
    "    sample = sample + ' ' + new_word\n",
    "\n",
    "sample = sample.capitalize()\n",
    "print(sample)"
   ]
  },
  {
   "cell_type": "markdown",
   "metadata": {},
   "source": [
    "The output of both of these models is English text, but it does not make sense. The first model (using ADAM optimizer) seems to be better as the loss of the training and test sets actually do see to approach convergence. The second model's loss never changes. Since both models have an underfitting problem, the results could probably be improved by more training data. Neural nets require large training sets, and my corpus only contains 51 cover letter samples."
   ]
  }
 ],
 "metadata": {
  "kernelspec": {
   "display_name": "Python 3",
   "language": "python",
   "name": "python3"
  },
  "language_info": {
   "codemirror_mode": {
    "name": "ipython",
    "version": 3
   },
   "file_extension": ".py",
   "mimetype": "text/x-python",
   "name": "python",
   "nbconvert_exporter": "python",
   "pygments_lexer": "ipython3",
   "version": "3.7.6"
  }
 },
 "nbformat": 4,
 "nbformat_minor": 4
}
